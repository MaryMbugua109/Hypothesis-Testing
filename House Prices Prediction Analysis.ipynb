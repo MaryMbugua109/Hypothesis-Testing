{
  "nbformat": 4,
  "nbformat_minor": 0,
  "metadata": {
    "colab": {
      "name": "MaryMbugua_Week7IP.ipynb",
      "provenance": [],
      "collapsed_sections": [],
      "toc_visible": true,
      "authorship_tag": "ABX9TyPTZw3z3StW/jCocr9DwxJ/",
      "include_colab_link": true
    },
    "kernelspec": {
      "name": "python3",
      "display_name": "Python 3"
    },
    "language_info": {
      "name": "python"
    }
  },
  "cells": [
    {
      "cell_type": "markdown",
      "metadata": {
        "id": "view-in-github",
        "colab_type": "text"
      },
      "source": [
        "<a href=\"https://colab.research.google.com/github/MaryMbugua109/Hypothesis-Testing/blob/main/House%20Prices%20Prediction%20Analysis.ipynb\" target=\"_parent\"><img src=\"https://colab.research.google.com/assets/colab-badge.svg\" alt=\"Open In Colab\"/></a>"
      ]
    },
    {
      "cell_type": "markdown",
      "metadata": {
        "id": "u24Yd5iMWyj-"
      },
      "source": [
        "##1 Defining the Question"
      ]
    },
    {
      "cell_type": "markdown",
      "metadata": {
        "id": "SMjqnXqFW3zp"
      },
      "source": [
        "###(i) Specifying the question\n",
        "> As a Data Scientist, you work for Hass Consulting Company which is a real estate leader with over 25 years of experience. You have been tasked to study the factors that affect housing prices using the given information on real estate properties that was collected over the past few months. Later onwards, create a model that would allow the company to accurately predict the sale of prices upon being provided with the predictor variables. "
      ]
    },
    {
      "cell_type": "markdown",
      "metadata": {
        "id": "QDb_fKjhXLB1"
      },
      "source": [
        "##(ii) Defining the Metric of Success\n",
        "> To create a regression model that would accurately predict the sale of prices upon being provided with the predictor variables."
      ]
    },
    {
      "cell_type": "markdown",
      "metadata": {
        "id": "j3LVivCHXdoF"
      },
      "source": [
        "###(iii) Understanding the Context\n",
        "> This project is being done on behalf of Hass Consulting Company, a real estate leader with over 25 years of experience. We have been tasked with studying the factors that affect housing; and creating a model that would allow the company to accurately predict the sale prices"
      ]
    },
    {
      "cell_type": "markdown",
      "metadata": {
        "id": "h9ApuIhlXuko"
      },
      "source": [
        "##(iv) Recording the Experimental Design\n",
        "> In this study, I'll be conducting Explorative Data Analysis, i.e Univariate, Bivariate and Multivariate Analysis to get the relationships and differences between different variables.\n",
        "\n",
        "> For regression analysis, I'll implement the following regression techniques and compare their performances.\n",
        "\n",
        ">Multiple Linear Regression\n",
        ">Quantile Regression\n",
        ">Ridge Regression\n",
        ">Lasso Regression\n",
        ">Elastic Net Regression"
      ]
    },
    {
      "cell_type": "markdown",
      "metadata": {
        "id": "cwykSwoOYIfw"
      },
      "source": [
        "##(v) Data Relevance\n",
        "> The dataset is relevant."
      ]
    },
    {
      "cell_type": "markdown",
      "metadata": {
        "id": "nIRlecuWYahz"
      },
      "source": [
        "#Importing the Libraries"
      ]
    },
    {
      "cell_type": "code",
      "metadata": {
        "id": "NLLeWqmuW3H6"
      },
      "source": [
        "#Importing Libraries \n",
        "#\n",
        "\n",
        "import numpy as np\n",
        "import pandas as pd\n",
        "import seaborn as sb\n",
        "import matplotlib.pyplot as plt\n",
        "import seaborn as sns\n",
        "\n",
        "from sklearn.model_selection import train_test_split\n",
        "from sklearn.linear_model import LinearRegression\n",
        "from sklearn import metrics\n",
        "import scipy as sp\n",
        "\n",
        "import statsmodels.formula.api as smf\n",
        "from sklearn.model_selection import GridSearchCV\n",
        "from sklearn.linear_model import Ridge\n",
        "from sklearn.metrics import mean_squared_error\n",
        "\n",
        "from sklearn.linear_model import Lasso\n",
        "from sklearn.preprocessing import StandardScaler\n",
        "from sklearn import linear_model\n",
        "from sklearn.preprocessing import StandardScaler, LabelEncoder\n",
        "import warnings\n",
        "warnings.filterwarnings(\"ignore\")"
      ],
      "execution_count": 37,
      "outputs": []
    },
    {
      "cell_type": "code",
      "metadata": {
        "colab": {
          "base_uri": "https://localhost:8080/",
          "height": 224
        },
        "id": "gccnMeJ_WPoa",
        "outputId": "7a72cd41-e98e-4b83-a1b8-b2b277bfb609"
      },
      "source": [
        "# Loading the Dataset\n",
        "# Dataset url = http://bit.ly/IndependentProjectWeek7Dataset\n",
        "housing_df = pd.read_csv('http://bit.ly/IndependentProjectWeek7Dataset')\n",
        "housing_df\n",
        "#Previewing the first rows\n",
        "housing_df.head()"
      ],
      "execution_count": 38,
      "outputs": [
        {
          "output_type": "execute_result",
          "data": {
            "text/html": [
              "<div>\n",
              "<style scoped>\n",
              "    .dataframe tbody tr th:only-of-type {\n",
              "        vertical-align: middle;\n",
              "    }\n",
              "\n",
              "    .dataframe tbody tr th {\n",
              "        vertical-align: top;\n",
              "    }\n",
              "\n",
              "    .dataframe thead th {\n",
              "        text-align: right;\n",
              "    }\n",
              "</style>\n",
              "<table border=\"1\" class=\"dataframe\">\n",
              "  <thead>\n",
              "    <tr style=\"text-align: right;\">\n",
              "      <th></th>\n",
              "      <th>id</th>\n",
              "      <th>price</th>\n",
              "      <th>bedrooms</th>\n",
              "      <th>bathrooms</th>\n",
              "      <th>sqft_living</th>\n",
              "      <th>sqft_lot</th>\n",
              "      <th>floors</th>\n",
              "      <th>waterfront</th>\n",
              "      <th>view</th>\n",
              "      <th>condition</th>\n",
              "      <th>grade</th>\n",
              "      <th>sqft_above</th>\n",
              "      <th>sqft_basement</th>\n",
              "      <th>yr_built</th>\n",
              "      <th>yr_renovated</th>\n",
              "      <th>zipcode</th>\n",
              "      <th>lat</th>\n",
              "      <th>long</th>\n",
              "      <th>sqft_living15</th>\n",
              "      <th>sqft_lot15</th>\n",
              "    </tr>\n",
              "  </thead>\n",
              "  <tbody>\n",
              "    <tr>\n",
              "      <th>0</th>\n",
              "      <td>7129300520</td>\n",
              "      <td>221900.0</td>\n",
              "      <td>3</td>\n",
              "      <td>1.00</td>\n",
              "      <td>1180</td>\n",
              "      <td>5650</td>\n",
              "      <td>1.0</td>\n",
              "      <td>0</td>\n",
              "      <td>0</td>\n",
              "      <td>3</td>\n",
              "      <td>7</td>\n",
              "      <td>1180</td>\n",
              "      <td>0</td>\n",
              "      <td>1955</td>\n",
              "      <td>0</td>\n",
              "      <td>98178</td>\n",
              "      <td>47.5112</td>\n",
              "      <td>-122.257</td>\n",
              "      <td>1340</td>\n",
              "      <td>5650</td>\n",
              "    </tr>\n",
              "    <tr>\n",
              "      <th>1</th>\n",
              "      <td>6414100192</td>\n",
              "      <td>538000.0</td>\n",
              "      <td>3</td>\n",
              "      <td>2.25</td>\n",
              "      <td>2570</td>\n",
              "      <td>7242</td>\n",
              "      <td>2.0</td>\n",
              "      <td>0</td>\n",
              "      <td>0</td>\n",
              "      <td>3</td>\n",
              "      <td>7</td>\n",
              "      <td>2170</td>\n",
              "      <td>400</td>\n",
              "      <td>1951</td>\n",
              "      <td>1991</td>\n",
              "      <td>98125</td>\n",
              "      <td>47.7210</td>\n",
              "      <td>-122.319</td>\n",
              "      <td>1690</td>\n",
              "      <td>7639</td>\n",
              "    </tr>\n",
              "    <tr>\n",
              "      <th>2</th>\n",
              "      <td>5631500400</td>\n",
              "      <td>180000.0</td>\n",
              "      <td>2</td>\n",
              "      <td>1.00</td>\n",
              "      <td>770</td>\n",
              "      <td>10000</td>\n",
              "      <td>1.0</td>\n",
              "      <td>0</td>\n",
              "      <td>0</td>\n",
              "      <td>3</td>\n",
              "      <td>6</td>\n",
              "      <td>770</td>\n",
              "      <td>0</td>\n",
              "      <td>1933</td>\n",
              "      <td>0</td>\n",
              "      <td>98028</td>\n",
              "      <td>47.7379</td>\n",
              "      <td>-122.233</td>\n",
              "      <td>2720</td>\n",
              "      <td>8062</td>\n",
              "    </tr>\n",
              "    <tr>\n",
              "      <th>3</th>\n",
              "      <td>2487200875</td>\n",
              "      <td>604000.0</td>\n",
              "      <td>4</td>\n",
              "      <td>3.00</td>\n",
              "      <td>1960</td>\n",
              "      <td>5000</td>\n",
              "      <td>1.0</td>\n",
              "      <td>0</td>\n",
              "      <td>0</td>\n",
              "      <td>5</td>\n",
              "      <td>7</td>\n",
              "      <td>1050</td>\n",
              "      <td>910</td>\n",
              "      <td>1965</td>\n",
              "      <td>0</td>\n",
              "      <td>98136</td>\n",
              "      <td>47.5208</td>\n",
              "      <td>-122.393</td>\n",
              "      <td>1360</td>\n",
              "      <td>5000</td>\n",
              "    </tr>\n",
              "    <tr>\n",
              "      <th>4</th>\n",
              "      <td>1954400510</td>\n",
              "      <td>510000.0</td>\n",
              "      <td>3</td>\n",
              "      <td>2.00</td>\n",
              "      <td>1680</td>\n",
              "      <td>8080</td>\n",
              "      <td>1.0</td>\n",
              "      <td>0</td>\n",
              "      <td>0</td>\n",
              "      <td>3</td>\n",
              "      <td>8</td>\n",
              "      <td>1680</td>\n",
              "      <td>0</td>\n",
              "      <td>1987</td>\n",
              "      <td>0</td>\n",
              "      <td>98074</td>\n",
              "      <td>47.6168</td>\n",
              "      <td>-122.045</td>\n",
              "      <td>1800</td>\n",
              "      <td>7503</td>\n",
              "    </tr>\n",
              "  </tbody>\n",
              "</table>\n",
              "</div>"
            ],
            "text/plain": [
              "           id     price  bedrooms  ...     long  sqft_living15  sqft_lot15\n",
              "0  7129300520  221900.0         3  ... -122.257           1340        5650\n",
              "1  6414100192  538000.0         3  ... -122.319           1690        7639\n",
              "2  5631500400  180000.0         2  ... -122.233           2720        8062\n",
              "3  2487200875  604000.0         4  ... -122.393           1360        5000\n",
              "4  1954400510  510000.0         3  ... -122.045           1800        7503\n",
              "\n",
              "[5 rows x 20 columns]"
            ]
          },
          "metadata": {
            "tags": []
          },
          "execution_count": 38
        }
      ]
    },
    {
      "cell_type": "markdown",
      "metadata": {
        "id": "3eS2Y_T1ZxFK"
      },
      "source": [
        "#2 Checking the data"
      ]
    },
    {
      "cell_type": "code",
      "metadata": {
        "colab": {
          "base_uri": "https://localhost:8080/"
        },
        "id": "_LBL5eODZ1Zk",
        "outputId": "862a8e4d-2a36-4c53-fe13-6a852ec6ec3a"
      },
      "source": [
        "# Determining the no. of records in our dataset\n",
        "housing_df.shape"
      ],
      "execution_count": 39,
      "outputs": [
        {
          "output_type": "execute_result",
          "data": {
            "text/plain": [
              "(21613, 20)"
            ]
          },
          "metadata": {
            "tags": []
          },
          "execution_count": 39
        }
      ]
    },
    {
      "cell_type": "code",
      "metadata": {
        "colab": {
          "base_uri": "https://localhost:8080/",
          "height": 224
        },
        "id": "W3ENjN2zZ6Vr",
        "outputId": "0127aa0e-339a-442a-8e27-d3bb4510c2e2"
      },
      "source": [
        "# Previewing the top of our dataset\n",
        "#\n",
        "housing_df.head()"
      ],
      "execution_count": 40,
      "outputs": [
        {
          "output_type": "execute_result",
          "data": {
            "text/html": [
              "<div>\n",
              "<style scoped>\n",
              "    .dataframe tbody tr th:only-of-type {\n",
              "        vertical-align: middle;\n",
              "    }\n",
              "\n",
              "    .dataframe tbody tr th {\n",
              "        vertical-align: top;\n",
              "    }\n",
              "\n",
              "    .dataframe thead th {\n",
              "        text-align: right;\n",
              "    }\n",
              "</style>\n",
              "<table border=\"1\" class=\"dataframe\">\n",
              "  <thead>\n",
              "    <tr style=\"text-align: right;\">\n",
              "      <th></th>\n",
              "      <th>id</th>\n",
              "      <th>price</th>\n",
              "      <th>bedrooms</th>\n",
              "      <th>bathrooms</th>\n",
              "      <th>sqft_living</th>\n",
              "      <th>sqft_lot</th>\n",
              "      <th>floors</th>\n",
              "      <th>waterfront</th>\n",
              "      <th>view</th>\n",
              "      <th>condition</th>\n",
              "      <th>grade</th>\n",
              "      <th>sqft_above</th>\n",
              "      <th>sqft_basement</th>\n",
              "      <th>yr_built</th>\n",
              "      <th>yr_renovated</th>\n",
              "      <th>zipcode</th>\n",
              "      <th>lat</th>\n",
              "      <th>long</th>\n",
              "      <th>sqft_living15</th>\n",
              "      <th>sqft_lot15</th>\n",
              "    </tr>\n",
              "  </thead>\n",
              "  <tbody>\n",
              "    <tr>\n",
              "      <th>0</th>\n",
              "      <td>7129300520</td>\n",
              "      <td>221900.0</td>\n",
              "      <td>3</td>\n",
              "      <td>1.00</td>\n",
              "      <td>1180</td>\n",
              "      <td>5650</td>\n",
              "      <td>1.0</td>\n",
              "      <td>0</td>\n",
              "      <td>0</td>\n",
              "      <td>3</td>\n",
              "      <td>7</td>\n",
              "      <td>1180</td>\n",
              "      <td>0</td>\n",
              "      <td>1955</td>\n",
              "      <td>0</td>\n",
              "      <td>98178</td>\n",
              "      <td>47.5112</td>\n",
              "      <td>-122.257</td>\n",
              "      <td>1340</td>\n",
              "      <td>5650</td>\n",
              "    </tr>\n",
              "    <tr>\n",
              "      <th>1</th>\n",
              "      <td>6414100192</td>\n",
              "      <td>538000.0</td>\n",
              "      <td>3</td>\n",
              "      <td>2.25</td>\n",
              "      <td>2570</td>\n",
              "      <td>7242</td>\n",
              "      <td>2.0</td>\n",
              "      <td>0</td>\n",
              "      <td>0</td>\n",
              "      <td>3</td>\n",
              "      <td>7</td>\n",
              "      <td>2170</td>\n",
              "      <td>400</td>\n",
              "      <td>1951</td>\n",
              "      <td>1991</td>\n",
              "      <td>98125</td>\n",
              "      <td>47.7210</td>\n",
              "      <td>-122.319</td>\n",
              "      <td>1690</td>\n",
              "      <td>7639</td>\n",
              "    </tr>\n",
              "    <tr>\n",
              "      <th>2</th>\n",
              "      <td>5631500400</td>\n",
              "      <td>180000.0</td>\n",
              "      <td>2</td>\n",
              "      <td>1.00</td>\n",
              "      <td>770</td>\n",
              "      <td>10000</td>\n",
              "      <td>1.0</td>\n",
              "      <td>0</td>\n",
              "      <td>0</td>\n",
              "      <td>3</td>\n",
              "      <td>6</td>\n",
              "      <td>770</td>\n",
              "      <td>0</td>\n",
              "      <td>1933</td>\n",
              "      <td>0</td>\n",
              "      <td>98028</td>\n",
              "      <td>47.7379</td>\n",
              "      <td>-122.233</td>\n",
              "      <td>2720</td>\n",
              "      <td>8062</td>\n",
              "    </tr>\n",
              "    <tr>\n",
              "      <th>3</th>\n",
              "      <td>2487200875</td>\n",
              "      <td>604000.0</td>\n",
              "      <td>4</td>\n",
              "      <td>3.00</td>\n",
              "      <td>1960</td>\n",
              "      <td>5000</td>\n",
              "      <td>1.0</td>\n",
              "      <td>0</td>\n",
              "      <td>0</td>\n",
              "      <td>5</td>\n",
              "      <td>7</td>\n",
              "      <td>1050</td>\n",
              "      <td>910</td>\n",
              "      <td>1965</td>\n",
              "      <td>0</td>\n",
              "      <td>98136</td>\n",
              "      <td>47.5208</td>\n",
              "      <td>-122.393</td>\n",
              "      <td>1360</td>\n",
              "      <td>5000</td>\n",
              "    </tr>\n",
              "    <tr>\n",
              "      <th>4</th>\n",
              "      <td>1954400510</td>\n",
              "      <td>510000.0</td>\n",
              "      <td>3</td>\n",
              "      <td>2.00</td>\n",
              "      <td>1680</td>\n",
              "      <td>8080</td>\n",
              "      <td>1.0</td>\n",
              "      <td>0</td>\n",
              "      <td>0</td>\n",
              "      <td>3</td>\n",
              "      <td>8</td>\n",
              "      <td>1680</td>\n",
              "      <td>0</td>\n",
              "      <td>1987</td>\n",
              "      <td>0</td>\n",
              "      <td>98074</td>\n",
              "      <td>47.6168</td>\n",
              "      <td>-122.045</td>\n",
              "      <td>1800</td>\n",
              "      <td>7503</td>\n",
              "    </tr>\n",
              "  </tbody>\n",
              "</table>\n",
              "</div>"
            ],
            "text/plain": [
              "           id     price  bedrooms  ...     long  sqft_living15  sqft_lot15\n",
              "0  7129300520  221900.0         3  ... -122.257           1340        5650\n",
              "1  6414100192  538000.0         3  ... -122.319           1690        7639\n",
              "2  5631500400  180000.0         2  ... -122.233           2720        8062\n",
              "3  2487200875  604000.0         4  ... -122.393           1360        5000\n",
              "4  1954400510  510000.0         3  ... -122.045           1800        7503\n",
              "\n",
              "[5 rows x 20 columns]"
            ]
          },
          "metadata": {
            "tags": []
          },
          "execution_count": 40
        }
      ]
    },
    {
      "cell_type": "code",
      "metadata": {
        "colab": {
          "base_uri": "https://localhost:8080/",
          "height": 224
        },
        "id": "dNLieQ6eaB1k",
        "outputId": "b9813f91-c2ee-4db7-8af6-193b11b13ac0"
      },
      "source": [
        "# Previewing the bottom of our dataset\n",
        "# \n",
        "housing_df.tail()"
      ],
      "execution_count": 41,
      "outputs": [
        {
          "output_type": "execute_result",
          "data": {
            "text/html": [
              "<div>\n",
              "<style scoped>\n",
              "    .dataframe tbody tr th:only-of-type {\n",
              "        vertical-align: middle;\n",
              "    }\n",
              "\n",
              "    .dataframe tbody tr th {\n",
              "        vertical-align: top;\n",
              "    }\n",
              "\n",
              "    .dataframe thead th {\n",
              "        text-align: right;\n",
              "    }\n",
              "</style>\n",
              "<table border=\"1\" class=\"dataframe\">\n",
              "  <thead>\n",
              "    <tr style=\"text-align: right;\">\n",
              "      <th></th>\n",
              "      <th>id</th>\n",
              "      <th>price</th>\n",
              "      <th>bedrooms</th>\n",
              "      <th>bathrooms</th>\n",
              "      <th>sqft_living</th>\n",
              "      <th>sqft_lot</th>\n",
              "      <th>floors</th>\n",
              "      <th>waterfront</th>\n",
              "      <th>view</th>\n",
              "      <th>condition</th>\n",
              "      <th>grade</th>\n",
              "      <th>sqft_above</th>\n",
              "      <th>sqft_basement</th>\n",
              "      <th>yr_built</th>\n",
              "      <th>yr_renovated</th>\n",
              "      <th>zipcode</th>\n",
              "      <th>lat</th>\n",
              "      <th>long</th>\n",
              "      <th>sqft_living15</th>\n",
              "      <th>sqft_lot15</th>\n",
              "    </tr>\n",
              "  </thead>\n",
              "  <tbody>\n",
              "    <tr>\n",
              "      <th>21608</th>\n",
              "      <td>263000018</td>\n",
              "      <td>360000.0</td>\n",
              "      <td>3</td>\n",
              "      <td>2.50</td>\n",
              "      <td>1530</td>\n",
              "      <td>1131</td>\n",
              "      <td>3.0</td>\n",
              "      <td>0</td>\n",
              "      <td>0</td>\n",
              "      <td>3</td>\n",
              "      <td>8</td>\n",
              "      <td>1530</td>\n",
              "      <td>0</td>\n",
              "      <td>2009</td>\n",
              "      <td>0</td>\n",
              "      <td>98103</td>\n",
              "      <td>47.6993</td>\n",
              "      <td>-122.346</td>\n",
              "      <td>1530</td>\n",
              "      <td>1509</td>\n",
              "    </tr>\n",
              "    <tr>\n",
              "      <th>21609</th>\n",
              "      <td>6600060120</td>\n",
              "      <td>400000.0</td>\n",
              "      <td>4</td>\n",
              "      <td>2.50</td>\n",
              "      <td>2310</td>\n",
              "      <td>5813</td>\n",
              "      <td>2.0</td>\n",
              "      <td>0</td>\n",
              "      <td>0</td>\n",
              "      <td>3</td>\n",
              "      <td>8</td>\n",
              "      <td>2310</td>\n",
              "      <td>0</td>\n",
              "      <td>2014</td>\n",
              "      <td>0</td>\n",
              "      <td>98146</td>\n",
              "      <td>47.5107</td>\n",
              "      <td>-122.362</td>\n",
              "      <td>1830</td>\n",
              "      <td>7200</td>\n",
              "    </tr>\n",
              "    <tr>\n",
              "      <th>21610</th>\n",
              "      <td>1523300141</td>\n",
              "      <td>402101.0</td>\n",
              "      <td>2</td>\n",
              "      <td>0.75</td>\n",
              "      <td>1020</td>\n",
              "      <td>1350</td>\n",
              "      <td>2.0</td>\n",
              "      <td>0</td>\n",
              "      <td>0</td>\n",
              "      <td>3</td>\n",
              "      <td>7</td>\n",
              "      <td>1020</td>\n",
              "      <td>0</td>\n",
              "      <td>2009</td>\n",
              "      <td>0</td>\n",
              "      <td>98144</td>\n",
              "      <td>47.5944</td>\n",
              "      <td>-122.299</td>\n",
              "      <td>1020</td>\n",
              "      <td>2007</td>\n",
              "    </tr>\n",
              "    <tr>\n",
              "      <th>21611</th>\n",
              "      <td>291310100</td>\n",
              "      <td>400000.0</td>\n",
              "      <td>3</td>\n",
              "      <td>2.50</td>\n",
              "      <td>1600</td>\n",
              "      <td>2388</td>\n",
              "      <td>2.0</td>\n",
              "      <td>0</td>\n",
              "      <td>0</td>\n",
              "      <td>3</td>\n",
              "      <td>8</td>\n",
              "      <td>1600</td>\n",
              "      <td>0</td>\n",
              "      <td>2004</td>\n",
              "      <td>0</td>\n",
              "      <td>98027</td>\n",
              "      <td>47.5345</td>\n",
              "      <td>-122.069</td>\n",
              "      <td>1410</td>\n",
              "      <td>1287</td>\n",
              "    </tr>\n",
              "    <tr>\n",
              "      <th>21612</th>\n",
              "      <td>1523300157</td>\n",
              "      <td>325000.0</td>\n",
              "      <td>2</td>\n",
              "      <td>0.75</td>\n",
              "      <td>1020</td>\n",
              "      <td>1076</td>\n",
              "      <td>2.0</td>\n",
              "      <td>0</td>\n",
              "      <td>0</td>\n",
              "      <td>3</td>\n",
              "      <td>7</td>\n",
              "      <td>1020</td>\n",
              "      <td>0</td>\n",
              "      <td>2008</td>\n",
              "      <td>0</td>\n",
              "      <td>98144</td>\n",
              "      <td>47.5941</td>\n",
              "      <td>-122.299</td>\n",
              "      <td>1020</td>\n",
              "      <td>1357</td>\n",
              "    </tr>\n",
              "  </tbody>\n",
              "</table>\n",
              "</div>"
            ],
            "text/plain": [
              "               id     price  bedrooms  ...     long  sqft_living15  sqft_lot15\n",
              "21608   263000018  360000.0         3  ... -122.346           1530        1509\n",
              "21609  6600060120  400000.0         4  ... -122.362           1830        7200\n",
              "21610  1523300141  402101.0         2  ... -122.299           1020        2007\n",
              "21611   291310100  400000.0         3  ... -122.069           1410        1287\n",
              "21612  1523300157  325000.0         2  ... -122.299           1020        1357\n",
              "\n",
              "[5 rows x 20 columns]"
            ]
          },
          "metadata": {
            "tags": []
          },
          "execution_count": 41
        }
      ]
    },
    {
      "cell_type": "code",
      "metadata": {
        "colab": {
          "base_uri": "https://localhost:8080/"
        },
        "id": "YFFBBpSWaD6G",
        "outputId": "873d6f93-1436-4f35-b019-d7e6c82f27bd"
      },
      "source": [
        "# Checking whether each column has an appropriate datatype\n",
        "#\n",
        "housing_df.dtypes\n",
        "\n",
        "#All columns have the right data types"
      ],
      "execution_count": 42,
      "outputs": [
        {
          "output_type": "execute_result",
          "data": {
            "text/plain": [
              "id                 int64\n",
              "price            float64\n",
              "bedrooms           int64\n",
              "bathrooms        float64\n",
              "sqft_living        int64\n",
              "sqft_lot           int64\n",
              "floors           float64\n",
              "waterfront         int64\n",
              "view               int64\n",
              "condition          int64\n",
              "grade              int64\n",
              "sqft_above         int64\n",
              "sqft_basement      int64\n",
              "yr_built           int64\n",
              "yr_renovated       int64\n",
              "zipcode            int64\n",
              "lat              float64\n",
              "long             float64\n",
              "sqft_living15      int64\n",
              "sqft_lot15         int64\n",
              "dtype: object"
            ]
          },
          "metadata": {
            "tags": []
          },
          "execution_count": 42
        }
      ]
    },
    {
      "cell_type": "markdown",
      "metadata": {
        "id": "f6OqYxx9aLew"
      },
      "source": [
        "#(vi) External Datasource Validation\n",
        "> Ive counterchecked the dataset with the external datasource and confirmed that it is correct."
      ]
    },
    {
      "cell_type": "markdown",
      "metadata": {
        "id": "_YUxhmN5arPe"
      },
      "source": [
        "#3 Data Cleaning"
      ]
    },
    {
      "cell_type": "code",
      "metadata": {
        "colab": {
          "base_uri": "https://localhost:8080/"
        },
        "id": "usu_McrEa3H5",
        "outputId": "509828a7-4484-45ad-a3a3-5741c6b53d63"
      },
      "source": [
        "# Identifying the Missing Data\n",
        "#\n",
        "\n",
        "housing_df.isnull().sum()\n",
        "\n",
        "# There are no missing values"
      ],
      "execution_count": 43,
      "outputs": [
        {
          "output_type": "execute_result",
          "data": {
            "text/plain": [
              "id               0\n",
              "price            0\n",
              "bedrooms         0\n",
              "bathrooms        0\n",
              "sqft_living      0\n",
              "sqft_lot         0\n",
              "floors           0\n",
              "waterfront       0\n",
              "view             0\n",
              "condition        0\n",
              "grade            0\n",
              "sqft_above       0\n",
              "sqft_basement    0\n",
              "yr_built         0\n",
              "yr_renovated     0\n",
              "zipcode          0\n",
              "lat              0\n",
              "long             0\n",
              "sqft_living15    0\n",
              "sqft_lot15       0\n",
              "dtype: int64"
            ]
          },
          "metadata": {
            "tags": []
          },
          "execution_count": 43
        }
      ]
    },
    {
      "cell_type": "code",
      "metadata": {
        "colab": {
          "base_uri": "https://localhost:8080/"
        },
        "id": "PmQnBQBIaIIg",
        "outputId": "dd20d9fa-abf3-4cf4-e337-d8eaa82f83ba"
      },
      "source": [
        "# Checking for duplicates\n",
        "#\n",
        "housing_df.duplicated().sum()"
      ],
      "execution_count": 44,
      "outputs": [
        {
          "output_type": "execute_result",
          "data": {
            "text/plain": [
              "3"
            ]
          },
          "metadata": {
            "tags": []
          },
          "execution_count": 44
        }
      ]
    },
    {
      "cell_type": "code",
      "metadata": {
        "colab": {
          "base_uri": "https://localhost:8080/"
        },
        "id": "kxqWDcrRbAc_",
        "outputId": "315e1acd-a518-47b2-c537-f1621cbdd81d"
      },
      "source": [
        "# Checking for columns where all values are zero\n",
        "zero_cols = [ col for col, is_zero in ((housing_df == 0).sum() == housing_df.shape[0]).items() if is_zero ]\n",
        "\n",
        "zero_cols"
      ],
      "execution_count": 45,
      "outputs": [
        {
          "output_type": "execute_result",
          "data": {
            "text/plain": [
              "[]"
            ]
          },
          "metadata": {
            "tags": []
          },
          "execution_count": 45
        }
      ]
    },
    {
      "cell_type": "code",
      "metadata": {
        "id": "r1cePZPjbSph"
      },
      "source": [
        "# Dropping irrelevant columns\n",
        "housing_df.drop(columns=['id', 'lat', 'long', 'waterfront', 'view', 'yr_renovated'], axis=1, inplace=True)"
      ],
      "execution_count": 46,
      "outputs": []
    },
    {
      "cell_type": "code",
      "metadata": {
        "colab": {
          "base_uri": "https://localhost:8080/"
        },
        "id": "etL_98oLbZUX",
        "outputId": "7def566b-ec84-420c-a9eb-1b5008a1022f"
      },
      "source": [
        "# Checking for Outliers\n",
        "#\n",
        "\n",
        "Q1 = housing_df.quantile(0.25)\n",
        "Q3 = housing_df.quantile(0.75)\n",
        "IQR = Q3 - Q1\n",
        "print(IQR)"
      ],
      "execution_count": 47,
      "outputs": [
        {
          "output_type": "stream",
          "text": [
            "price            323050.00\n",
            "bedrooms              1.00\n",
            "bathrooms             0.75\n",
            "sqft_living        1123.00\n",
            "sqft_lot           5648.00\n",
            "floors                1.00\n",
            "condition             1.00\n",
            "grade                 1.00\n",
            "sqft_above         1020.00\n",
            "sqft_basement       560.00\n",
            "yr_built             46.00\n",
            "zipcode              85.00\n",
            "sqft_living15       870.00\n",
            "sqft_lot15         4983.00\n",
            "dtype: float64\n"
          ],
          "name": "stdout"
        }
      ]
    },
    {
      "cell_type": "code",
      "metadata": {
        "colab": {
          "base_uri": "https://localhost:8080/",
          "height": 1000
        },
        "id": "3IGJF4WJbhWr",
        "outputId": "9dbe8785-4a8b-4419-f0aa-08fcf90dd415"
      },
      "source": [
        "#Plotting the box plot for columns with outliers\n",
        "\n",
        "col_names = ['price','sqft_living','sqft_lot', 'sqft_lot15', 'sqft_living15', 'sqft_above', 'sqft_basement', 'sqft_lot15', 'sqft_living15']\n",
        "\n",
        "fig,ax = plt.subplots(len(col_names),figsize=(8,40))\n",
        "for i , col_val in enumerate(col_names):\n",
        "  sns.boxplot(y=housing_df[col_val],ax=ax[i])\n",
        "  ax[i].set_title('Box plot - {}'.format(col_val), fontsize =10)\n",
        "  ax[i].set_xlabel(col_val,fontsize=10)\n",
        "plt.show()"
      ],
      "execution_count": 48,
      "outputs": [
        {
          "output_type": "display_data",
          "data": {
            "image/png": "[encoded data removed]",
            "text/plain": [
              "<Figure size 576x2880 with 9 Axes>"
            ]
          },
          "metadata": {
            "tags": [],
            "needs_background": "light"
          }
        }
      ]
    },
    {
      "cell_type": "code",
      "metadata": {
        "colab": {
          "base_uri": "https://localhost:8080/"
        },
        "id": "_wJvzVF6bmAm",
        "outputId": "c19c9cc3-ff92-4be3-dfc2-bd262614e3a4"
      },
      "source": [
        "# Removing outliers\n",
        "housing_df = housing_df[~((housing_df < (Q1 - 1.5 * IQR)) |(housing_df > (Q3 + 1.5 * IQR))).any(axis=1)]\n",
        "housing_df.shape"
      ],
      "execution_count": 49,
      "outputs": [
        {
          "output_type": "execute_result",
          "data": {
            "text/plain": [
              "(16607, 14)"
            ]
          },
          "metadata": {
            "tags": []
          },
          "execution_count": 49
        }
      ]
    },
    {
      "cell_type": "code",
      "metadata": {
        "colab": {
          "base_uri": "https://localhost:8080/"
        },
        "id": "hqCu_Zj8btaE",
        "outputId": "7ae28fa9-87e6-4025-9de0-f2b555baf15a"
      },
      "source": [
        "# More data cleaning procedures\n",
        "#\n",
        "housing_df.info()"
      ],
      "execution_count": 50,
      "outputs": [
        {
          "output_type": "stream",
          "text": [
            "<class 'pandas.core.frame.DataFrame'>\n",
            "Int64Index: 16607 entries, 0 to 21612\n",
            "Data columns (total 14 columns):\n",
            " #   Column         Non-Null Count  Dtype  \n",
            "---  ------         --------------  -----  \n",
            " 0   price          16607 non-null  float64\n",
            " 1   bedrooms       16607 non-null  int64  \n",
            " 2   bathrooms      16607 non-null  float64\n",
            " 3   sqft_living    16607 non-null  int64  \n",
            " 4   sqft_lot       16607 non-null  int64  \n",
            " 5   floors         16607 non-null  float64\n",
            " 6   condition      16607 non-null  int64  \n",
            " 7   grade          16607 non-null  int64  \n",
            " 8   sqft_above     16607 non-null  int64  \n",
            " 9   sqft_basement  16607 non-null  int64  \n",
            " 10  yr_built       16607 non-null  int64  \n",
            " 11  zipcode        16607 non-null  int64  \n",
            " 12  sqft_living15  16607 non-null  int64  \n",
            " 13  sqft_lot15     16607 non-null  int64  \n",
            "dtypes: float64(3), int64(11)\n",
            "memory usage: 1.9 MB\n"
          ],
          "name": "stdout"
        }
      ]
    },
    {
      "cell_type": "markdown",
      "metadata": {
        "id": "2hgNvEuGb0PW"
      },
      "source": [
        "##Exploratory Data Analysis"
      ]
    },
    {
      "cell_type": "markdown",
      "metadata": {
        "id": "pcxeSg-DY4Cw"
      },
      "source": [
        "###Univariate Analysis"
      ]
    },
    {
      "cell_type": "code",
      "metadata": {
        "colab": {
          "base_uri": "https://localhost:8080/",
          "height": 317
        },
        "id": "TpCDqcOKb9CY",
        "outputId": "2bcc4954-d493-4953-c197-0a89f16a906e"
      },
      "source": [
        "# Ploting the univariate summaries and recording our observations\n",
        "#\n",
        "housing_df.describe()"
      ],
      "execution_count": 51,
      "outputs": [
        {
          "output_type": "execute_result",
          "data": {
            "text/html": [
              "<div>\n",
              "<style scoped>\n",
              "    .dataframe tbody tr th:only-of-type {\n",
              "        vertical-align: middle;\n",
              "    }\n",
              "\n",
              "    .dataframe tbody tr th {\n",
              "        vertical-align: top;\n",
              "    }\n",
              "\n",
              "    .dataframe thead th {\n",
              "        text-align: right;\n",
              "    }\n",
              "</style>\n",
              "<table border=\"1\" class=\"dataframe\">\n",
              "  <thead>\n",
              "    <tr style=\"text-align: right;\">\n",
              "      <th></th>\n",
              "      <th>price</th>\n",
              "      <th>bedrooms</th>\n",
              "      <th>bathrooms</th>\n",
              "      <th>sqft_living</th>\n",
              "      <th>sqft_lot</th>\n",
              "      <th>floors</th>\n",
              "      <th>condition</th>\n",
              "      <th>grade</th>\n",
              "      <th>sqft_above</th>\n",
              "      <th>sqft_basement</th>\n",
              "      <th>yr_built</th>\n",
              "      <th>zipcode</th>\n",
              "      <th>sqft_living15</th>\n",
              "      <th>sqft_lot15</th>\n",
              "    </tr>\n",
              "  </thead>\n",
              "  <tbody>\n",
              "    <tr>\n",
              "      <th>count</th>\n",
              "      <td>1.660700e+04</td>\n",
              "      <td>16607.000000</td>\n",
              "      <td>16607.000000</td>\n",
              "      <td>16607.000000</td>\n",
              "      <td>16607.000000</td>\n",
              "      <td>16607.000000</td>\n",
              "      <td>16607.000000</td>\n",
              "      <td>16607.000000</td>\n",
              "      <td>16607.000000</td>\n",
              "      <td>16607.000000</td>\n",
              "      <td>16607.000000</td>\n",
              "      <td>16607.000000</td>\n",
              "      <td>16607.000000</td>\n",
              "      <td>16607.000000</td>\n",
              "    </tr>\n",
              "    <tr>\n",
              "      <th>mean</th>\n",
              "      <td>4.520989e+05</td>\n",
              "      <td>3.268682</td>\n",
              "      <td>1.984404</td>\n",
              "      <td>1838.475944</td>\n",
              "      <td>7053.725477</td>\n",
              "      <td>1.466099</td>\n",
              "      <td>3.416812</td>\n",
              "      <td>7.401156</td>\n",
              "      <td>1590.458421</td>\n",
              "      <td>248.017523</td>\n",
              "      <td>1969.984163</td>\n",
              "      <td>98081.924189</td>\n",
              "      <td>1815.431505</td>\n",
              "      <td>6932.410670</td>\n",
              "    </tr>\n",
              "    <tr>\n",
              "      <th>std</th>\n",
              "      <td>1.890064e+05</td>\n",
              "      <td>0.775045</td>\n",
              "      <td>0.648982</td>\n",
              "      <td>623.694157</td>\n",
              "      <td>3384.478918</td>\n",
              "      <td>0.544199</td>\n",
              "      <td>0.644641</td>\n",
              "      <td>0.811422</td>\n",
              "      <td>599.000778</td>\n",
              "      <td>366.761155</td>\n",
              "      <td>29.702470</td>\n",
              "      <td>54.047951</td>\n",
              "      <td>514.711176</td>\n",
              "      <td>3016.246718</td>\n",
              "    </tr>\n",
              "    <tr>\n",
              "      <th>min</th>\n",
              "      <td>8.200000e+04</td>\n",
              "      <td>2.000000</td>\n",
              "      <td>0.750000</td>\n",
              "      <td>560.000000</td>\n",
              "      <td>520.000000</td>\n",
              "      <td>1.000000</td>\n",
              "      <td>2.000000</td>\n",
              "      <td>6.000000</td>\n",
              "      <td>480.000000</td>\n",
              "      <td>0.000000</td>\n",
              "      <td>1900.000000</td>\n",
              "      <td>98001.000000</td>\n",
              "      <td>620.000000</td>\n",
              "      <td>651.000000</td>\n",
              "    </tr>\n",
              "    <tr>\n",
              "      <th>25%</th>\n",
              "      <td>3.054975e+05</td>\n",
              "      <td>3.000000</td>\n",
              "      <td>1.500000</td>\n",
              "      <td>1360.000000</td>\n",
              "      <td>4750.000000</td>\n",
              "      <td>1.000000</td>\n",
              "      <td>3.000000</td>\n",
              "      <td>7.000000</td>\n",
              "      <td>1150.000000</td>\n",
              "      <td>0.000000</td>\n",
              "      <td>1950.000000</td>\n",
              "      <td>98033.000000</td>\n",
              "      <td>1440.000000</td>\n",
              "      <td>4820.000000</td>\n",
              "    </tr>\n",
              "    <tr>\n",
              "      <th>50%</th>\n",
              "      <td>4.190000e+05</td>\n",
              "      <td>3.000000</td>\n",
              "      <td>2.000000</td>\n",
              "      <td>1770.000000</td>\n",
              "      <td>7029.000000</td>\n",
              "      <td>1.000000</td>\n",
              "      <td>3.000000</td>\n",
              "      <td>7.000000</td>\n",
              "      <td>1440.000000</td>\n",
              "      <td>0.000000</td>\n",
              "      <td>1971.000000</td>\n",
              "      <td>98074.000000</td>\n",
              "      <td>1720.000000</td>\n",
              "      <td>7169.000000</td>\n",
              "    </tr>\n",
              "    <tr>\n",
              "      <th>75%</th>\n",
              "      <td>5.639750e+05</td>\n",
              "      <td>4.000000</td>\n",
              "      <td>2.500000</td>\n",
              "      <td>2240.000000</td>\n",
              "      <td>9000.000000</td>\n",
              "      <td>2.000000</td>\n",
              "      <td>4.000000</td>\n",
              "      <td>8.000000</td>\n",
              "      <td>1920.000000</td>\n",
              "      <td>500.000000</td>\n",
              "      <td>1997.000000</td>\n",
              "      <td>98119.000000</td>\n",
              "      <td>2130.000000</td>\n",
              "      <td>8744.000000</td>\n",
              "    </tr>\n",
              "    <tr>\n",
              "      <th>max</th>\n",
              "      <td>1.120000e+06</td>\n",
              "      <td>5.000000</td>\n",
              "      <td>3.500000</td>\n",
              "      <td>4200.000000</td>\n",
              "      <td>19141.000000</td>\n",
              "      <td>3.500000</td>\n",
              "      <td>5.000000</td>\n",
              "      <td>9.000000</td>\n",
              "      <td>3740.000000</td>\n",
              "      <td>1400.000000</td>\n",
              "      <td>2015.000000</td>\n",
              "      <td>98199.000000</td>\n",
              "      <td>3640.000000</td>\n",
              "      <td>17550.000000</td>\n",
              "    </tr>\n",
              "  </tbody>\n",
              "</table>\n",
              "</div>"
            ],
            "text/plain": [
              "              price      bedrooms  ...  sqft_living15    sqft_lot15\n",
              "count  1.660700e+04  16607.000000  ...   16607.000000  16607.000000\n",
              "mean   4.520989e+05      3.268682  ...    1815.431505   6932.410670\n",
              "std    1.890064e+05      0.775045  ...     514.711176   3016.246718\n",
              "min    8.200000e+04      2.000000  ...     620.000000    651.000000\n",
              "25%    3.054975e+05      3.000000  ...    1440.000000   4820.000000\n",
              "50%    4.190000e+05      3.000000  ...    1720.000000   7169.000000\n",
              "75%    5.639750e+05      4.000000  ...    2130.000000   8744.000000\n",
              "max    1.120000e+06      5.000000  ...    3640.000000  17550.000000\n",
              "\n",
              "[8 rows x 14 columns]"
            ]
          },
          "metadata": {
            "tags": []
          },
          "execution_count": 51
        }
      ]
    },
    {
      "cell_type": "code",
      "metadata": {
        "colab": {
          "base_uri": "https://localhost:8080/",
          "height": 333
        },
        "id": "IPqLwWPvcDGh",
        "outputId": "0bf17957-a874-4840-fd72-f1e633fefe58"
      },
      "source": [
        "# Ploting the univariate summaries and recording our observations\n",
        "#\n",
        "plt.figure(figsize = (10,5))\n",
        "housing_df['bedrooms'].value_counts().plot(kind = 'bar', color = 'green')"
      ],
      "execution_count": 52,
      "outputs": [
        {
          "output_type": "execute_result",
          "data": {
            "text/plain": [
              "<matplotlib.axes._subplots.AxesSubplot at 0x7f29e5a75190>"
            ]
          },
          "metadata": {
            "tags": []
          },
          "execution_count": 52
        },
        {
          "output_type": "display_data",
          "data": {
            "image/png": "[encoded data removed]",
            "text/plain": [
              "<Figure size 720x360 with 1 Axes>"
            ]
          },
          "metadata": {
            "tags": [],
            "needs_background": "light"
          }
        }
      ]
    },
    {
      "cell_type": "code",
      "metadata": {
        "colab": {
          "base_uri": "https://localhost:8080/",
          "height": 349
        },
        "id": "vj22spWScL7F",
        "outputId": "1d131ef0-6343-4710-89ca-44ea22e78423"
      },
      "source": [
        "plt.figure(figsize = (15,5))\n",
        "housing_df['bathrooms'].value_counts().plot(kind = 'bar', color = 'green')"
      ],
      "execution_count": 53,
      "outputs": [
        {
          "output_type": "execute_result",
          "data": {
            "text/plain": [
              "<matplotlib.axes._subplots.AxesSubplot at 0x7f29e5659d10>"
            ]
          },
          "metadata": {
            "tags": []
          },
          "execution_count": 53
        },
        {
          "output_type": "display_data",
          "data": {
            "image/png": "[encoded data removed]",
            "text/plain": [
              "<Figure size 1080x360 with 1 Axes>"
            ]
          },
          "metadata": {
            "tags": [],
            "needs_background": "light"
          }
        }
      ]
    },
    {
      "cell_type": "code",
      "metadata": {
        "colab": {
          "base_uri": "https://localhost:8080/",
          "height": 343
        },
        "id": "yaCRooetcTQY",
        "outputId": "be06981f-dd7f-4369-f704-2509378f8918"
      },
      "source": [
        "plt.figure(figsize = (10,5))\n",
        "housing_df['floors'].value_counts().plot(kind = 'bar', color = 'green')"
      ],
      "execution_count": 54,
      "outputs": [
        {
          "output_type": "execute_result",
          "data": {
            "text/plain": [
              "<matplotlib.axes._subplots.AxesSubplot at 0x7f29e5661ad0>"
            ]
          },
          "metadata": {
            "tags": []
          },
          "execution_count": 54
        },
        {
          "output_type": "display_data",
          "data": {
            "image/png": "[encoded data removed]",
            "text/plain": [
              "<Figure size 720x360 with 1 Axes>"
            ]
          },
          "metadata": {
            "tags": [],
            "needs_background": "light"
          }
        }
      ]
    },
    {
      "cell_type": "code",
      "metadata": {
        "colab": {
          "base_uri": "https://localhost:8080/",
          "height": 333
        },
        "id": "HQtfGxBocdE3",
        "outputId": "19e4e302-9898-4251-d1b1-aedeb8f9255a"
      },
      "source": [
        "plt.figure(figsize = (10,5))\n",
        "housing_df['condition'].value_counts().plot(kind = 'bar', color = 'blue')"
      ],
      "execution_count": 55,
      "outputs": [
        {
          "output_type": "execute_result",
          "data": {
            "text/plain": [
              "<matplotlib.axes._subplots.AxesSubplot at 0x7f29e556c5d0>"
            ]
          },
          "metadata": {
            "tags": []
          },
          "execution_count": 55
        },
        {
          "output_type": "display_data",
          "data": {
            "image/png": "[encoded data removed]",
            "text/plain": [
              "<Figure size 720x360 with 1 Axes>"
            ]
          },
          "metadata": {
            "tags": [],
            "needs_background": "light"
          }
        }
      ]
    },
    {
      "cell_type": "code",
      "metadata": {
        "colab": {
          "base_uri": "https://localhost:8080/",
          "height": 333
        },
        "id": "X1FTl6nIcjes",
        "outputId": "0051467c-5d45-4ef8-e3f9-d6b94ab5d308"
      },
      "source": [
        "plt.figure(figsize = (10,5))\n",
        "housing_df['grade'].value_counts().plot(kind = 'bar', color = 'blue')"
      ],
      "execution_count": 56,
      "outputs": [
        {
          "output_type": "execute_result",
          "data": {
            "text/plain": [
              "<matplotlib.axes._subplots.AxesSubplot at 0x7f29e55497d0>"
            ]
          },
          "metadata": {
            "tags": []
          },
          "execution_count": 56
        },
        {
          "output_type": "display_data",
          "data": {
            "image/png": "[encoded data removed]",
            "text/plain": [
              "<Figure size 720x360 with 1 Axes>"
            ]
          },
          "metadata": {
            "tags": [],
            "needs_background": "light"
          }
        }
      ]
    },
    {
      "cell_type": "markdown",
      "metadata": {
        "id": "Fsrd3uaLczcu"
      },
      "source": [
        "###Observations\n",
        "> Most of the houses owned by the Hass Consultig company are three bedroomed.\n",
        "> Most of the houses owned by the company have 2.5 bathrooms.\n",
        "> Most of the houses have one floor.\n",
        "> Most of their houses are grade 7."
      ]
    },
    {
      "cell_type": "code",
      "metadata": {
        "colab": {
          "base_uri": "https://localhost:8080/",
          "height": 680
        },
        "id": "nYLgWAoUcr-P",
        "outputId": "79791128-6a90-4177-d7cb-69d9042ade53"
      },
      "source": [
        "#Checking for data distribution\n",
        "housing_df.hist(bins=10, figsize=(10,10))\n",
        "plt.suptitle('Histograms to show distribution of Numerical variables')"
      ],
      "execution_count": 57,
      "outputs": [
        {
          "output_type": "execute_result",
          "data": {
            "text/plain": [
              "Text(0.5, 0.98, 'Histograms to show distribution of Numerical variables')"
            ]
          },
          "metadata": {
            "tags": []
          },
          "execution_count": 57
        },
        {
          "output_type": "display_data",
          "data": {
            "image/png": "[encoded data removed]",
            "text/plain": [
              "<Figure size 720x720 with 16 Axes>"
            ]
          },
          "metadata": {
            "tags": [],
            "needs_background": "light"
          }
        }
      ]
    },
    {
      "cell_type": "markdown",
      "metadata": {
        "id": "cjabr_modMok"
      },
      "source": [
        "###Bivariate Analysis"
      ]
    },
    {
      "cell_type": "code",
      "metadata": {
        "colab": {
          "base_uri": "https://localhost:8080/",
          "height": 503
        },
        "id": "Mc3lrC7cdMU6",
        "outputId": "89ed061c-1efd-4a73-8117-2c6d5550c33c"
      },
      "source": [
        "#Correlation matrix.\n",
        "\n",
        "correlations = housing_df.corr()\n",
        "correlations"
      ],
      "execution_count": 59,
      "outputs": [
        {
          "output_type": "execute_result",
          "data": {
            "text/html": [
              "<div>\n",
              "<style scoped>\n",
              "    .dataframe tbody tr th:only-of-type {\n",
              "        vertical-align: middle;\n",
              "    }\n",
              "\n",
              "    .dataframe tbody tr th {\n",
              "        vertical-align: top;\n",
              "    }\n",
              "\n",
              "    .dataframe thead th {\n",
              "        text-align: right;\n",
              "    }\n",
              "</style>\n",
              "<table border=\"1\" class=\"dataframe\">\n",
              "  <thead>\n",
              "    <tr style=\"text-align: right;\">\n",
              "      <th></th>\n",
              "      <th>price</th>\n",
              "      <th>bedrooms</th>\n",
              "      <th>bathrooms</th>\n",
              "      <th>sqft_living</th>\n",
              "      <th>sqft_lot</th>\n",
              "      <th>floors</th>\n",
              "      <th>condition</th>\n",
              "      <th>grade</th>\n",
              "      <th>sqft_above</th>\n",
              "      <th>sqft_basement</th>\n",
              "      <th>yr_built</th>\n",
              "      <th>zipcode</th>\n",
              "      <th>sqft_living15</th>\n",
              "      <th>sqft_lot15</th>\n",
              "    </tr>\n",
              "  </thead>\n",
              "  <tbody>\n",
              "    <tr>\n",
              "      <th>price</th>\n",
              "      <td>1.000000</td>\n",
              "      <td>0.239410</td>\n",
              "      <td>0.351894</td>\n",
              "      <td>0.525285</td>\n",
              "      <td>-0.077417</td>\n",
              "      <td>0.219932</td>\n",
              "      <td>0.079146</td>\n",
              "      <td>0.534803</td>\n",
              "      <td>0.399116</td>\n",
              "      <td>0.241427</td>\n",
              "      <td>-0.056148</td>\n",
              "      <td>0.031124</td>\n",
              "      <td>0.458746</td>\n",
              "      <td>-0.085973</td>\n",
              "    </tr>\n",
              "    <tr>\n",
              "      <th>bedrooms</th>\n",
              "      <td>0.239410</td>\n",
              "      <td>1.000000</td>\n",
              "      <td>0.451214</td>\n",
              "      <td>0.608718</td>\n",
              "      <td>0.197132</td>\n",
              "      <td>0.130891</td>\n",
              "      <td>0.022923</td>\n",
              "      <td>0.292631</td>\n",
              "      <td>0.477296</td>\n",
              "      <td>0.255625</td>\n",
              "      <td>0.151521</td>\n",
              "      <td>-0.170331</td>\n",
              "      <td>0.399357</td>\n",
              "      <td>0.185170</td>\n",
              "    </tr>\n",
              "    <tr>\n",
              "      <th>bathrooms</th>\n",
              "      <td>0.351894</td>\n",
              "      <td>0.451214</td>\n",
              "      <td>1.000000</td>\n",
              "      <td>0.673379</td>\n",
              "      <td>-0.071967</td>\n",
              "      <td>0.513372</td>\n",
              "      <td>-0.149165</td>\n",
              "      <td>0.580511</td>\n",
              "      <td>0.590480</td>\n",
              "      <td>0.180730</td>\n",
              "      <td>0.556967</td>\n",
              "      <td>-0.220457</td>\n",
              "      <td>0.498787</td>\n",
              "      <td>-0.076955</td>\n",
              "    </tr>\n",
              "    <tr>\n",
              "      <th>sqft_living</th>\n",
              "      <td>0.525285</td>\n",
              "      <td>0.608718</td>\n",
              "      <td>0.673379</td>\n",
              "      <td>1.000000</td>\n",
              "      <td>0.170654</td>\n",
              "      <td>0.313382</td>\n",
              "      <td>-0.062902</td>\n",
              "      <td>0.624631</td>\n",
              "      <td>0.820789</td>\n",
              "      <td>0.360019</td>\n",
              "      <td>0.315062</td>\n",
              "      <td>-0.196874</td>\n",
              "      <td>0.710034</td>\n",
              "      <td>0.152948</td>\n",
              "    </tr>\n",
              "    <tr>\n",
              "      <th>sqft_lot</th>\n",
              "      <td>-0.077417</td>\n",
              "      <td>0.197132</td>\n",
              "      <td>-0.071967</td>\n",
              "      <td>0.170654</td>\n",
              "      <td>1.000000</td>\n",
              "      <td>-0.398275</td>\n",
              "      <td>0.138303</td>\n",
              "      <td>-0.020374</td>\n",
              "      <td>0.121553</td>\n",
              "      <td>0.091682</td>\n",
              "      <td>-0.077416</td>\n",
              "      <td>-0.246614</td>\n",
              "      <td>0.210878</td>\n",
              "      <td>0.877399</td>\n",
              "    </tr>\n",
              "    <tr>\n",
              "      <th>floors</th>\n",
              "      <td>0.219932</td>\n",
              "      <td>0.130891</td>\n",
              "      <td>0.513372</td>\n",
              "      <td>0.313382</td>\n",
              "      <td>-0.398275</td>\n",
              "      <td>1.000000</td>\n",
              "      <td>-0.286637</td>\n",
              "      <td>0.459763</td>\n",
              "      <td>0.523229</td>\n",
              "      <td>-0.321626</td>\n",
              "      <td>0.514365</td>\n",
              "      <td>-0.059189</td>\n",
              "      <td>0.234006</td>\n",
              "      <td>-0.403997</td>\n",
              "    </tr>\n",
              "    <tr>\n",
              "      <th>condition</th>\n",
              "      <td>0.079146</td>\n",
              "      <td>0.022923</td>\n",
              "      <td>-0.149165</td>\n",
              "      <td>-0.062902</td>\n",
              "      <td>0.138303</td>\n",
              "      <td>-0.286637</td>\n",
              "      <td>1.000000</td>\n",
              "      <td>-0.180954</td>\n",
              "      <td>-0.182515</td>\n",
              "      <td>0.191119</td>\n",
              "      <td>-0.376967</td>\n",
              "      <td>0.002651</td>\n",
              "      <td>-0.113058</td>\n",
              "      <td>0.141060</td>\n",
              "    </tr>\n",
              "    <tr>\n",
              "      <th>grade</th>\n",
              "      <td>0.534803</td>\n",
              "      <td>0.292631</td>\n",
              "      <td>0.580511</td>\n",
              "      <td>0.624631</td>\n",
              "      <td>-0.020374</td>\n",
              "      <td>0.459763</td>\n",
              "      <td>-0.180954</td>\n",
              "      <td>1.000000</td>\n",
              "      <td>0.630043</td>\n",
              "      <td>0.033218</td>\n",
              "      <td>0.471690</td>\n",
              "      <td>-0.183453</td>\n",
              "      <td>0.598502</td>\n",
              "      <td>-0.011906</td>\n",
              "    </tr>\n",
              "    <tr>\n",
              "      <th>sqft_above</th>\n",
              "      <td>0.399116</td>\n",
              "      <td>0.477296</td>\n",
              "      <td>0.590480</td>\n",
              "      <td>0.820789</td>\n",
              "      <td>0.121553</td>\n",
              "      <td>0.523229</td>\n",
              "      <td>-0.182515</td>\n",
              "      <td>0.630043</td>\n",
              "      <td>1.000000</td>\n",
              "      <td>-0.237428</td>\n",
              "      <td>0.449483</td>\n",
              "      <td>-0.283493</td>\n",
              "      <td>0.679495</td>\n",
              "      <td>0.105879</td>\n",
              "    </tr>\n",
              "    <tr>\n",
              "      <th>sqft_basement</th>\n",
              "      <td>0.241427</td>\n",
              "      <td>0.255625</td>\n",
              "      <td>0.180730</td>\n",
              "      <td>0.360019</td>\n",
              "      <td>0.091682</td>\n",
              "      <td>-0.321626</td>\n",
              "      <td>0.191119</td>\n",
              "      <td>0.033218</td>\n",
              "      <td>-0.237428</td>\n",
              "      <td>1.000000</td>\n",
              "      <td>-0.198326</td>\n",
              "      <td>0.128212</td>\n",
              "      <td>0.097682</td>\n",
              "      <td>0.087172</td>\n",
              "    </tr>\n",
              "    <tr>\n",
              "      <th>yr_built</th>\n",
              "      <td>-0.056148</td>\n",
              "      <td>0.151521</td>\n",
              "      <td>0.556967</td>\n",
              "      <td>0.315062</td>\n",
              "      <td>-0.077416</td>\n",
              "      <td>0.514365</td>\n",
              "      <td>-0.376967</td>\n",
              "      <td>0.471690</td>\n",
              "      <td>0.449483</td>\n",
              "      <td>-0.198326</td>\n",
              "      <td>1.000000</td>\n",
              "      <td>-0.351804</td>\n",
              "      <td>0.330141</td>\n",
              "      <td>-0.056456</td>\n",
              "    </tr>\n",
              "    <tr>\n",
              "      <th>zipcode</th>\n",
              "      <td>0.031124</td>\n",
              "      <td>-0.170331</td>\n",
              "      <td>-0.220457</td>\n",
              "      <td>-0.196874</td>\n",
              "      <td>-0.246614</td>\n",
              "      <td>-0.059189</td>\n",
              "      <td>0.002651</td>\n",
              "      <td>-0.183453</td>\n",
              "      <td>-0.283493</td>\n",
              "      <td>0.128212</td>\n",
              "      <td>-0.351804</td>\n",
              "      <td>1.000000</td>\n",
              "      <td>-0.286131</td>\n",
              "      <td>-0.248270</td>\n",
              "    </tr>\n",
              "    <tr>\n",
              "      <th>sqft_living15</th>\n",
              "      <td>0.458746</td>\n",
              "      <td>0.399357</td>\n",
              "      <td>0.498787</td>\n",
              "      <td>0.710034</td>\n",
              "      <td>0.210878</td>\n",
              "      <td>0.234006</td>\n",
              "      <td>-0.113058</td>\n",
              "      <td>0.598502</td>\n",
              "      <td>0.679495</td>\n",
              "      <td>0.097682</td>\n",
              "      <td>0.330141</td>\n",
              "      <td>-0.286131</td>\n",
              "      <td>1.000000</td>\n",
              "      <td>0.229773</td>\n",
              "    </tr>\n",
              "    <tr>\n",
              "      <th>sqft_lot15</th>\n",
              "      <td>-0.085973</td>\n",
              "      <td>0.185170</td>\n",
              "      <td>-0.076955</td>\n",
              "      <td>0.152948</td>\n",
              "      <td>0.877399</td>\n",
              "      <td>-0.403997</td>\n",
              "      <td>0.141060</td>\n",
              "      <td>-0.011906</td>\n",
              "      <td>0.105879</td>\n",
              "      <td>0.087172</td>\n",
              "      <td>-0.056456</td>\n",
              "      <td>-0.248270</td>\n",
              "      <td>0.229773</td>\n",
              "      <td>1.000000</td>\n",
              "    </tr>\n",
              "  </tbody>\n",
              "</table>\n",
              "</div>"
            ],
            "text/plain": [
              "                  price  bedrooms  ...  sqft_living15  sqft_lot15\n",
              "price          1.000000  0.239410  ...       0.458746   -0.085973\n",
              "bedrooms       0.239410  1.000000  ...       0.399357    0.185170\n",
              "bathrooms      0.351894  0.451214  ...       0.498787   -0.076955\n",
              "sqft_living    0.525285  0.608718  ...       0.710034    0.152948\n",
              "sqft_lot      -0.077417  0.197132  ...       0.210878    0.877399\n",
              "floors         0.219932  0.130891  ...       0.234006   -0.403997\n",
              "condition      0.079146  0.022923  ...      -0.113058    0.141060\n",
              "grade          0.534803  0.292631  ...       0.598502   -0.011906\n",
              "sqft_above     0.399116  0.477296  ...       0.679495    0.105879\n",
              "sqft_basement  0.241427  0.255625  ...       0.097682    0.087172\n",
              "yr_built      -0.056148  0.151521  ...       0.330141   -0.056456\n",
              "zipcode        0.031124 -0.170331  ...      -0.286131   -0.248270\n",
              "sqft_living15  0.458746  0.399357  ...       1.000000    0.229773\n",
              "sqft_lot15    -0.085973  0.185170  ...       0.229773    1.000000\n",
              "\n",
              "[14 rows x 14 columns]"
            ]
          },
          "metadata": {
            "tags": []
          },
          "execution_count": 59
        }
      ]
    },
    {
      "cell_type": "code",
      "metadata": {
        "colab": {
          "base_uri": "https://localhost:8080/",
          "height": 350
        },
        "id": "POOJddl01rYJ",
        "outputId": "5ecf4cb4-6410-47eb-8fa1-e497861feb92"
      },
      "source": [
        "#Plottting a heatmap to show correlation of different numerical variables\n",
        "sns.heatmap(housing_df.corr(), xticklabels = housing_df.corr().columns, yticklabels = housing_df.corr().columns, annot=True)"
      ],
      "execution_count": 60,
      "outputs": [
        {
          "output_type": "execute_result",
          "data": {
            "text/plain": [
              "<matplotlib.axes._subplots.AxesSubplot at 0x7f29f4aadcd0>"
            ]
          },
          "metadata": {
            "tags": []
          },
          "execution_count": 60
        },
        {
          "output_type": "display_data",
          "data": {
            "image/png": "[encoded data removed]",
            "text/plain": [
              "<Figure size 432x288 with 2 Axes>"
            ]
          },
          "metadata": {
            "tags": [],
            "needs_background": "light"
          }
        }
      ]
    },
    {
      "cell_type": "markdown",
      "metadata": {
        "id": "zp2NZC_-Y-9G"
      },
      "source": [
        "###Multivarariate Analysis:PCA"
      ]
    },
    {
      "cell_type": "code",
      "metadata": {
        "id": "sf7zLf1mZJP1"
      },
      "source": [
        "#step 1:Preprocessing\n",
        "X = housing_df.drop('price', 1)\n",
        "y = housing_df['price']"
      ],
      "execution_count": 61,
      "outputs": []
    },
    {
      "cell_type": "code",
      "metadata": {
        "id": "8iBr6Muma6b0"
      },
      "source": [
        "#Step 2:Splitting the dataset into training set and test set\n",
        "from sklearn.model_selection import train_test_split\n",
        "\n",
        "X_train, X_test, y_train, y_test = train_test_split(X, y, test_size=0.2, random_state=0)"
      ],
      "execution_count": 62,
      "outputs": []
    },
    {
      "cell_type": "code",
      "metadata": {
        "id": "51WYDbBibJ8s"
      },
      "source": [
        "#Step3:Normalization\n",
        "from sklearn.preprocessing import StandardScaler\n",
        "\n",
        "sc = StandardScaler()\n",
        "X_train = sc.fit_transform(X_train)\n",
        "X_test = sc.transform(X_test)"
      ],
      "execution_count": 63,
      "outputs": []
    },
    {
      "cell_type": "code",
      "metadata": {
        "id": "m4_uy6ZhbU3l"
      },
      "source": [
        "#Step4:Applying PCA\n",
        "from sklearn.decomposition import PCA\n",
        "\n",
        "pca = PCA()\n",
        "X_train = pca.fit_transform(X_train)\n",
        "X_test = pca.transform(X_test)"
      ],
      "execution_count": 64,
      "outputs": []
    },
    {
      "cell_type": "code",
      "metadata": {
        "colab": {
          "base_uri": "https://localhost:8080/"
        },
        "id": "a-oFO_skbkRk",
        "outputId": "4df51309-4167-4c3e-8301-e37b38443eec"
      },
      "source": [
        "#Step5:Explained Variance ratio\n",
        "explained_variance = pca.explained_variance_ratio_\n",
        "explained_variance"
      ],
      "execution_count": 65,
      "outputs": [
        {
          "output_type": "execute_result",
          "data": {
            "text/plain": [
              "array([3.57567978e-01, 1.98002135e-01, 1.19342527e-01, 6.74890924e-02,\n",
              "       6.43255927e-02, 5.09907490e-02, 4.27432238e-02, 2.71331148e-02,\n",
              "       2.48503454e-02, 1.96840989e-02, 1.84685408e-02, 9.40260226e-03,\n",
              "       4.48247203e-33])"
            ]
          },
          "metadata": {
            "tags": []
          },
          "execution_count": 65
        }
      ]
    },
    {
      "cell_type": "code",
      "metadata": {
        "id": "42IJpA8HbzU1"
      },
      "source": [
        "#Step 6:Using 1 Principal component\n",
        "from sklearn.decomposition import PCA\n",
        "\n",
        "pca = PCA(n_components=1)\n",
        "X_train = pca.fit_transform(X_train)\n",
        "X_test = pca.transform(X_test)"
      ],
      "execution_count": 66,
      "outputs": []
    },
    {
      "cell_type": "code",
      "metadata": {
        "id": "CpOOoaHUcFds"
      },
      "source": [
        "#Training and making predictions\n",
        "from sklearn.ensemble import RandomForestClassifier\n",
        "\n",
        "classifier = RandomForestClassifier(max_depth=2, random_state=0)\n",
        "classifier.fit(X_train, y_train)\n",
        "\n",
        "# Predicting the Test set results\n",
        "y_pred = classifier.predict(X_test)"
      ],
      "execution_count": 67,
      "outputs": []
    },
    {
      "cell_type": "code",
      "metadata": {
        "colab": {
          "base_uri": "https://localhost:8080/"
        },
        "id": "zA3WVQSocPTc",
        "outputId": "038806fd-f885-4490-dce0-e61cfc2309c8"
      },
      "source": [
        "#Performance evaluation\n",
        "from sklearn.metrics import confusion_matrix\n",
        "from sklearn.metrics import accuracy_score\n",
        "\n",
        "cm = confusion_matrix(y_test, y_pred)\n",
        "print(cm)\n",
        "print('Accuracy' , accuracy_score(y_test, y_pred))\n",
        "#The accuracy prediction is 81.27%"
      ],
      "execution_count": 68,
      "outputs": [
        {
          "output_type": "stream",
          "text": [
            "[[0 0 0 ... 0 0 0]\n",
            " [0 0 0 ... 0 0 0]\n",
            " [0 0 0 ... 0 0 0]\n",
            " ...\n",
            " [0 0 0 ... 0 0 0]\n",
            " [0 0 0 ... 0 0 0]\n",
            " [0 0 0 ... 0 0 0]]\n",
            "Accuracy 0.008127633955448525\n"
          ],
          "name": "stdout"
        }
      ]
    },
    {
      "cell_type": "markdown",
      "metadata": {
        "id": "_e1iyL3410Yk"
      },
      "source": [
        "##Multicollinearity"
      ]
    },
    {
      "cell_type": "code",
      "metadata": {
        "colab": {
          "base_uri": "https://localhost:8080/",
          "height": 472
        },
        "id": "VQrtTshV15J6",
        "outputId": "01e04b83-81af-414a-9c05-4ad14d5da903"
      },
      "source": [
        "# Checking for multicollinearity on the independent variables only\n",
        "\n",
        "F = housing_df.drop('price', 1)\n",
        "correlations = F.corr()\n",
        "correlations"
      ],
      "execution_count": 69,
      "outputs": [
        {
          "output_type": "execute_result",
          "data": {
            "text/html": [
              "<div>\n",
              "<style scoped>\n",
              "    .dataframe tbody tr th:only-of-type {\n",
              "        vertical-align: middle;\n",
              "    }\n",
              "\n",
              "    .dataframe tbody tr th {\n",
              "        vertical-align: top;\n",
              "    }\n",
              "\n",
              "    .dataframe thead th {\n",
              "        text-align: right;\n",
              "    }\n",
              "</style>\n",
              "<table border=\"1\" class=\"dataframe\">\n",
              "  <thead>\n",
              "    <tr style=\"text-align: right;\">\n",
              "      <th></th>\n",
              "      <th>bedrooms</th>\n",
              "      <th>bathrooms</th>\n",
              "      <th>sqft_living</th>\n",
              "      <th>sqft_lot</th>\n",
              "      <th>floors</th>\n",
              "      <th>condition</th>\n",
              "      <th>grade</th>\n",
              "      <th>sqft_above</th>\n",
              "      <th>sqft_basement</th>\n",
              "      <th>yr_built</th>\n",
              "      <th>zipcode</th>\n",
              "      <th>sqft_living15</th>\n",
              "      <th>sqft_lot15</th>\n",
              "    </tr>\n",
              "  </thead>\n",
              "  <tbody>\n",
              "    <tr>\n",
              "      <th>bedrooms</th>\n",
              "      <td>1.000000</td>\n",
              "      <td>0.451214</td>\n",
              "      <td>0.608718</td>\n",
              "      <td>0.197132</td>\n",
              "      <td>0.130891</td>\n",
              "      <td>0.022923</td>\n",
              "      <td>0.292631</td>\n",
              "      <td>0.477296</td>\n",
              "      <td>0.255625</td>\n",
              "      <td>0.151521</td>\n",
              "      <td>-0.170331</td>\n",
              "      <td>0.399357</td>\n",
              "      <td>0.185170</td>\n",
              "    </tr>\n",
              "    <tr>\n",
              "      <th>bathrooms</th>\n",
              "      <td>0.451214</td>\n",
              "      <td>1.000000</td>\n",
              "      <td>0.673379</td>\n",
              "      <td>-0.071967</td>\n",
              "      <td>0.513372</td>\n",
              "      <td>-0.149165</td>\n",
              "      <td>0.580511</td>\n",
              "      <td>0.590480</td>\n",
              "      <td>0.180730</td>\n",
              "      <td>0.556967</td>\n",
              "      <td>-0.220457</td>\n",
              "      <td>0.498787</td>\n",
              "      <td>-0.076955</td>\n",
              "    </tr>\n",
              "    <tr>\n",
              "      <th>sqft_living</th>\n",
              "      <td>0.608718</td>\n",
              "      <td>0.673379</td>\n",
              "      <td>1.000000</td>\n",
              "      <td>0.170654</td>\n",
              "      <td>0.313382</td>\n",
              "      <td>-0.062902</td>\n",
              "      <td>0.624631</td>\n",
              "      <td>0.820789</td>\n",
              "      <td>0.360019</td>\n",
              "      <td>0.315062</td>\n",
              "      <td>-0.196874</td>\n",
              "      <td>0.710034</td>\n",
              "      <td>0.152948</td>\n",
              "    </tr>\n",
              "    <tr>\n",
              "      <th>sqft_lot</th>\n",
              "      <td>0.197132</td>\n",
              "      <td>-0.071967</td>\n",
              "      <td>0.170654</td>\n",
              "      <td>1.000000</td>\n",
              "      <td>-0.398275</td>\n",
              "      <td>0.138303</td>\n",
              "      <td>-0.020374</td>\n",
              "      <td>0.121553</td>\n",
              "      <td>0.091682</td>\n",
              "      <td>-0.077416</td>\n",
              "      <td>-0.246614</td>\n",
              "      <td>0.210878</td>\n",
              "      <td>0.877399</td>\n",
              "    </tr>\n",
              "    <tr>\n",
              "      <th>floors</th>\n",
              "      <td>0.130891</td>\n",
              "      <td>0.513372</td>\n",
              "      <td>0.313382</td>\n",
              "      <td>-0.398275</td>\n",
              "      <td>1.000000</td>\n",
              "      <td>-0.286637</td>\n",
              "      <td>0.459763</td>\n",
              "      <td>0.523229</td>\n",
              "      <td>-0.321626</td>\n",
              "      <td>0.514365</td>\n",
              "      <td>-0.059189</td>\n",
              "      <td>0.234006</td>\n",
              "      <td>-0.403997</td>\n",
              "    </tr>\n",
              "    <tr>\n",
              "      <th>condition</th>\n",
              "      <td>0.022923</td>\n",
              "      <td>-0.149165</td>\n",
              "      <td>-0.062902</td>\n",
              "      <td>0.138303</td>\n",
              "      <td>-0.286637</td>\n",
              "      <td>1.000000</td>\n",
              "      <td>-0.180954</td>\n",
              "      <td>-0.182515</td>\n",
              "      <td>0.191119</td>\n",
              "      <td>-0.376967</td>\n",
              "      <td>0.002651</td>\n",
              "      <td>-0.113058</td>\n",
              "      <td>0.141060</td>\n",
              "    </tr>\n",
              "    <tr>\n",
              "      <th>grade</th>\n",
              "      <td>0.292631</td>\n",
              "      <td>0.580511</td>\n",
              "      <td>0.624631</td>\n",
              "      <td>-0.020374</td>\n",
              "      <td>0.459763</td>\n",
              "      <td>-0.180954</td>\n",
              "      <td>1.000000</td>\n",
              "      <td>0.630043</td>\n",
              "      <td>0.033218</td>\n",
              "      <td>0.471690</td>\n",
              "      <td>-0.183453</td>\n",
              "      <td>0.598502</td>\n",
              "      <td>-0.011906</td>\n",
              "    </tr>\n",
              "    <tr>\n",
              "      <th>sqft_above</th>\n",
              "      <td>0.477296</td>\n",
              "      <td>0.590480</td>\n",
              "      <td>0.820789</td>\n",
              "      <td>0.121553</td>\n",
              "      <td>0.523229</td>\n",
              "      <td>-0.182515</td>\n",
              "      <td>0.630043</td>\n",
              "      <td>1.000000</td>\n",
              "      <td>-0.237428</td>\n",
              "      <td>0.449483</td>\n",
              "      <td>-0.283493</td>\n",
              "      <td>0.679495</td>\n",
              "      <td>0.105879</td>\n",
              "    </tr>\n",
              "    <tr>\n",
              "      <th>sqft_basement</th>\n",
              "      <td>0.255625</td>\n",
              "      <td>0.180730</td>\n",
              "      <td>0.360019</td>\n",
              "      <td>0.091682</td>\n",
              "      <td>-0.321626</td>\n",
              "      <td>0.191119</td>\n",
              "      <td>0.033218</td>\n",
              "      <td>-0.237428</td>\n",
              "      <td>1.000000</td>\n",
              "      <td>-0.198326</td>\n",
              "      <td>0.128212</td>\n",
              "      <td>0.097682</td>\n",
              "      <td>0.087172</td>\n",
              "    </tr>\n",
              "    <tr>\n",
              "      <th>yr_built</th>\n",
              "      <td>0.151521</td>\n",
              "      <td>0.556967</td>\n",
              "      <td>0.315062</td>\n",
              "      <td>-0.077416</td>\n",
              "      <td>0.514365</td>\n",
              "      <td>-0.376967</td>\n",
              "      <td>0.471690</td>\n",
              "      <td>0.449483</td>\n",
              "      <td>-0.198326</td>\n",
              "      <td>1.000000</td>\n",
              "      <td>-0.351804</td>\n",
              "      <td>0.330141</td>\n",
              "      <td>-0.056456</td>\n",
              "    </tr>\n",
              "    <tr>\n",
              "      <th>zipcode</th>\n",
              "      <td>-0.170331</td>\n",
              "      <td>-0.220457</td>\n",
              "      <td>-0.196874</td>\n",
              "      <td>-0.246614</td>\n",
              "      <td>-0.059189</td>\n",
              "      <td>0.002651</td>\n",
              "      <td>-0.183453</td>\n",
              "      <td>-0.283493</td>\n",
              "      <td>0.128212</td>\n",
              "      <td>-0.351804</td>\n",
              "      <td>1.000000</td>\n",
              "      <td>-0.286131</td>\n",
              "      <td>-0.248270</td>\n",
              "    </tr>\n",
              "    <tr>\n",
              "      <th>sqft_living15</th>\n",
              "      <td>0.399357</td>\n",
              "      <td>0.498787</td>\n",
              "      <td>0.710034</td>\n",
              "      <td>0.210878</td>\n",
              "      <td>0.234006</td>\n",
              "      <td>-0.113058</td>\n",
              "      <td>0.598502</td>\n",
              "      <td>0.679495</td>\n",
              "      <td>0.097682</td>\n",
              "      <td>0.330141</td>\n",
              "      <td>-0.286131</td>\n",
              "      <td>1.000000</td>\n",
              "      <td>0.229773</td>\n",
              "    </tr>\n",
              "    <tr>\n",
              "      <th>sqft_lot15</th>\n",
              "      <td>0.185170</td>\n",
              "      <td>-0.076955</td>\n",
              "      <td>0.152948</td>\n",
              "      <td>0.877399</td>\n",
              "      <td>-0.403997</td>\n",
              "      <td>0.141060</td>\n",
              "      <td>-0.011906</td>\n",
              "      <td>0.105879</td>\n",
              "      <td>0.087172</td>\n",
              "      <td>-0.056456</td>\n",
              "      <td>-0.248270</td>\n",
              "      <td>0.229773</td>\n",
              "      <td>1.000000</td>\n",
              "    </tr>\n",
              "  </tbody>\n",
              "</table>\n",
              "</div>"
            ],
            "text/plain": [
              "               bedrooms  bathrooms  ...  sqft_living15  sqft_lot15\n",
              "bedrooms       1.000000   0.451214  ...       0.399357    0.185170\n",
              "bathrooms      0.451214   1.000000  ...       0.498787   -0.076955\n",
              "sqft_living    0.608718   0.673379  ...       0.710034    0.152948\n",
              "sqft_lot       0.197132  -0.071967  ...       0.210878    0.877399\n",
              "floors         0.130891   0.513372  ...       0.234006   -0.403997\n",
              "condition      0.022923  -0.149165  ...      -0.113058    0.141060\n",
              "grade          0.292631   0.580511  ...       0.598502   -0.011906\n",
              "sqft_above     0.477296   0.590480  ...       0.679495    0.105879\n",
              "sqft_basement  0.255625   0.180730  ...       0.097682    0.087172\n",
              "yr_built       0.151521   0.556967  ...       0.330141   -0.056456\n",
              "zipcode       -0.170331  -0.220457  ...      -0.286131   -0.248270\n",
              "sqft_living15  0.399357   0.498787  ...       1.000000    0.229773\n",
              "sqft_lot15     0.185170  -0.076955  ...       0.229773    1.000000\n",
              "\n",
              "[13 rows x 13 columns]"
            ]
          },
          "metadata": {
            "tags": []
          },
          "execution_count": 69
        }
      ]
    },
    {
      "cell_type": "markdown",
      "metadata": {
        "id": "jqWKlDGh2Ieb"
      },
      "source": [
        "VIF(Variance Infaltion Factor)"
      ]
    },
    {
      "cell_type": "code",
      "metadata": {
        "colab": {
          "base_uri": "https://localhost:8080/",
          "height": 472
        },
        "id": "K4Iddght2GCS",
        "outputId": "8bf193f2-af0a-4531-c305-bd3d81cacff6"
      },
      "source": [
        "pd.DataFrame(np.linalg.inv(correlations.values), index = correlations.index, columns=correlations.columns)"
      ],
      "execution_count": 70,
      "outputs": [
        {
          "output_type": "execute_result",
          "data": {
            "text/html": [
              "<div>\n",
              "<style scoped>\n",
              "    .dataframe tbody tr th:only-of-type {\n",
              "        vertical-align: middle;\n",
              "    }\n",
              "\n",
              "    .dataframe tbody tr th {\n",
              "        vertical-align: top;\n",
              "    }\n",
              "\n",
              "    .dataframe thead th {\n",
              "        text-align: right;\n",
              "    }\n",
              "</style>\n",
              "<table border=\"1\" class=\"dataframe\">\n",
              "  <thead>\n",
              "    <tr style=\"text-align: right;\">\n",
              "      <th></th>\n",
              "      <th>bedrooms</th>\n",
              "      <th>bathrooms</th>\n",
              "      <th>sqft_living</th>\n",
              "      <th>sqft_lot</th>\n",
              "      <th>floors</th>\n",
              "      <th>condition</th>\n",
              "      <th>grade</th>\n",
              "      <th>sqft_above</th>\n",
              "      <th>sqft_basement</th>\n",
              "      <th>yr_built</th>\n",
              "      <th>zipcode</th>\n",
              "      <th>sqft_living15</th>\n",
              "      <th>sqft_lot15</th>\n",
              "    </tr>\n",
              "  </thead>\n",
              "  <tbody>\n",
              "    <tr>\n",
              "      <th>bedrooms</th>\n",
              "      <td>1.687882</td>\n",
              "      <td>-0.322444</td>\n",
              "      <td>-1.224643e+00</td>\n",
              "      <td>-0.066959</td>\n",
              "      <td>0.014026</td>\n",
              "      <td>-0.034053</td>\n",
              "      <td>0.219539</td>\n",
              "      <td>2.027690e-01</td>\n",
              "      <td>1.377441e-01</td>\n",
              "      <td>0.108503</td>\n",
              "      <td>0.077383</td>\n",
              "      <td>0.094243</td>\n",
              "      <td>-0.107533</td>\n",
              "    </tr>\n",
              "    <tr>\n",
              "      <th>bathrooms</th>\n",
              "      <td>-0.322444</td>\n",
              "      <td>2.860766</td>\n",
              "      <td>-1.062807e+00</td>\n",
              "      <td>0.052898</td>\n",
              "      <td>-0.692302</td>\n",
              "      <td>-0.131585</td>\n",
              "      <td>-0.227724</td>\n",
              "      <td>1.689234e-01</td>\n",
              "      <td>-4.023652e-01</td>\n",
              "      <td>-0.883727</td>\n",
              "      <td>0.103462</td>\n",
              "      <td>-0.055222</td>\n",
              "      <td>0.138137</td>\n",
              "    </tr>\n",
              "    <tr>\n",
              "      <th>sqft_living</th>\n",
              "      <td>-1.224783</td>\n",
              "      <td>-1.062464</td>\n",
              "      <td>-1.627408e+13</td>\n",
              "      <td>-0.188134</td>\n",
              "      <td>1.041332</td>\n",
              "      <td>-0.339868</td>\n",
              "      <td>-0.717054</td>\n",
              "      <td>1.562975e+13</td>\n",
              "      <td>9.569913e+12</td>\n",
              "      <td>0.242462</td>\n",
              "      <td>-0.472963</td>\n",
              "      <td>-1.041158</td>\n",
              "      <td>0.378509</td>\n",
              "    </tr>\n",
              "    <tr>\n",
              "      <th>sqft_lot</th>\n",
              "      <td>-0.066959</td>\n",
              "      <td>0.052898</td>\n",
              "      <td>-1.887044e-01</td>\n",
              "      <td>4.548778</td>\n",
              "      <td>0.440947</td>\n",
              "      <td>0.020133</td>\n",
              "      <td>0.091037</td>\n",
              "      <td>-3.871777e-01</td>\n",
              "      <td>9.920149e-03</td>\n",
              "      <td>0.108736</td>\n",
              "      <td>0.175690</td>\n",
              "      <td>0.149112</td>\n",
              "      <td>-3.713811</td>\n",
              "    </tr>\n",
              "    <tr>\n",
              "      <th>floors</th>\n",
              "      <td>0.014026</td>\n",
              "      <td>-0.692302</td>\n",
              "      <td>1.041900e+00</td>\n",
              "      <td>0.440947</td>\n",
              "      <td>2.650628</td>\n",
              "      <td>0.078160</td>\n",
              "      <td>-0.315435</td>\n",
              "      <td>-1.772561e+00</td>\n",
              "      <td>5.082745e-03</td>\n",
              "      <td>-0.420026</td>\n",
              "      <td>-0.188067</td>\n",
              "      <td>0.254395</td>\n",
              "      <td>0.512179</td>\n",
              "    </tr>\n",
              "    <tr>\n",
              "      <th>condition</th>\n",
              "      <td>-0.034053</td>\n",
              "      <td>-0.131585</td>\n",
              "      <td>-3.393146e-01</td>\n",
              "      <td>0.020133</td>\n",
              "      <td>0.078160</td>\n",
              "      <td>1.237198</td>\n",
              "      <td>-0.000741</td>\n",
              "      <td>3.450345e-01</td>\n",
              "      <td>1.002673e-01</td>\n",
              "      <td>0.496165</td>\n",
              "      <td>0.165671</td>\n",
              "      <td>0.103182</td>\n",
              "      <td>-0.112369</td>\n",
              "    </tr>\n",
              "    <tr>\n",
              "      <th>grade</th>\n",
              "      <td>0.219539</td>\n",
              "      <td>-0.227724</td>\n",
              "      <td>-7.215000e-01</td>\n",
              "      <td>0.091037</td>\n",
              "      <td>-0.315435</td>\n",
              "      <td>-0.000741</td>\n",
              "      <td>2.205964</td>\n",
              "      <td>-6.721249e-02</td>\n",
              "      <td>4.631058e-02</td>\n",
              "      <td>-0.342744</td>\n",
              "      <td>-0.066200</td>\n",
              "      <td>-0.586494</td>\n",
              "      <td>-0.026776</td>\n",
              "    </tr>\n",
              "    <tr>\n",
              "      <th>sqft_above</th>\n",
              "      <td>0.199305</td>\n",
              "      <td>0.165834</td>\n",
              "      <td>1.562975e+13</td>\n",
              "      <td>-0.387094</td>\n",
              "      <td>-1.770472</td>\n",
              "      <td>0.345466</td>\n",
              "      <td>-0.070781</td>\n",
              "      <td>-1.501094e+13</td>\n",
              "      <td>-9.191020e+12</td>\n",
              "      <td>0.018701</td>\n",
              "      <td>0.454882</td>\n",
              "      <td>-0.479854</td>\n",
              "      <td>-0.279313</td>\n",
              "    </tr>\n",
              "    <tr>\n",
              "      <th>sqft_basement</th>\n",
              "      <td>0.136707</td>\n",
              "      <td>-0.402700</td>\n",
              "      <td>9.569913e+12</td>\n",
              "      <td>0.009501</td>\n",
              "      <td>0.005213</td>\n",
              "      <td>0.100611</td>\n",
              "      <td>0.043588</td>\n",
              "      <td>-9.191020e+12</td>\n",
              "      <td>-5.627554e+12</td>\n",
              "      <td>0.206038</td>\n",
              "      <td>0.032696</td>\n",
              "      <td>0.082861</td>\n",
              "      <td>-0.092252</td>\n",
              "    </tr>\n",
              "    <tr>\n",
              "      <th>yr_built</th>\n",
              "      <td>0.108503</td>\n",
              "      <td>-0.883727</td>\n",
              "      <td>2.454627e-01</td>\n",
              "      <td>0.108736</td>\n",
              "      <td>-0.420026</td>\n",
              "      <td>0.496165</td>\n",
              "      <td>-0.342744</td>\n",
              "      <td>1.581889e-02</td>\n",
              "      <td>2.042736e-01</td>\n",
              "      <td>2.159941</td>\n",
              "      <td>0.491059</td>\n",
              "      <td>0.012378</td>\n",
              "      <td>-0.243274</td>\n",
              "    </tr>\n",
              "    <tr>\n",
              "      <th>zipcode</th>\n",
              "      <td>0.077383</td>\n",
              "      <td>0.103462</td>\n",
              "      <td>-4.720206e-01</td>\n",
              "      <td>0.175690</td>\n",
              "      <td>-0.188067</td>\n",
              "      <td>0.165671</td>\n",
              "      <td>-0.066200</td>\n",
              "      <td>4.539767e-01</td>\n",
              "      <td>3.214119e-02</td>\n",
              "      <td>0.491059</td>\n",
              "      <td>1.338181</td>\n",
              "      <td>0.210512</td>\n",
              "      <td>0.072256</td>\n",
              "    </tr>\n",
              "    <tr>\n",
              "      <th>sqft_living15</th>\n",
              "      <td>0.094243</td>\n",
              "      <td>-0.055222</td>\n",
              "      <td>-1.036450e+00</td>\n",
              "      <td>0.149112</td>\n",
              "      <td>0.254395</td>\n",
              "      <td>0.103182</td>\n",
              "      <td>-0.586494</td>\n",
              "      <td>-4.843754e-01</td>\n",
              "      <td>8.009197e-02</td>\n",
              "      <td>0.012378</td>\n",
              "      <td>0.210512</td>\n",
              "      <td>2.462610</td>\n",
              "      <td>-0.381347</td>\n",
              "    </tr>\n",
              "    <tr>\n",
              "      <th>sqft_lot15</th>\n",
              "      <td>-0.107533</td>\n",
              "      <td>0.138137</td>\n",
              "      <td>3.787205e-01</td>\n",
              "      <td>-3.713811</td>\n",
              "      <td>0.512179</td>\n",
              "      <td>-0.112369</td>\n",
              "      <td>-0.026776</td>\n",
              "      <td>-2.795159e-01</td>\n",
              "      <td>-9.237580e-02</td>\n",
              "      <td>-0.243274</td>\n",
              "      <td>0.072256</td>\n",
              "      <td>-0.381347</td>\n",
              "      <td>4.583039</td>\n",
              "    </tr>\n",
              "  </tbody>\n",
              "</table>\n",
              "</div>"
            ],
            "text/plain": [
              "               bedrooms  bathrooms  ...  sqft_living15  sqft_lot15\n",
              "bedrooms       1.687882  -0.322444  ...       0.094243   -0.107533\n",
              "bathrooms     -0.322444   2.860766  ...      -0.055222    0.138137\n",
              "sqft_living   -1.224783  -1.062464  ...      -1.041158    0.378509\n",
              "sqft_lot      -0.066959   0.052898  ...       0.149112   -3.713811\n",
              "floors         0.014026  -0.692302  ...       0.254395    0.512179\n",
              "condition     -0.034053  -0.131585  ...       0.103182   -0.112369\n",
              "grade          0.219539  -0.227724  ...      -0.586494   -0.026776\n",
              "sqft_above     0.199305   0.165834  ...      -0.479854   -0.279313\n",
              "sqft_basement  0.136707  -0.402700  ...       0.082861   -0.092252\n",
              "yr_built       0.108503  -0.883727  ...       0.012378   -0.243274\n",
              "zipcode        0.077383   0.103462  ...       0.210512    0.072256\n",
              "sqft_living15  0.094243  -0.055222  ...       2.462610   -0.381347\n",
              "sqft_lot15    -0.107533   0.138137  ...      -0.381347    4.583039\n",
              "\n",
              "[13 rows x 13 columns]"
            ]
          },
          "metadata": {
            "tags": []
          },
          "execution_count": 70
        }
      ]
    },
    {
      "cell_type": "markdown",
      "metadata": {
        "id": "Ifmt_fS32c3E"
      },
      "source": [
        "> From this we observe that sqft_living, sqft_above have a VIF factor above 5. So, I'll remove the sqft_living and sqft_above features and see how they affect our accuracy, compared to accuracy when we leave them in."
      ]
    },
    {
      "cell_type": "markdown",
      "metadata": {
        "id": "KtNVRcLXtPVT"
      },
      "source": [
        "###Multiple Linear Regression"
      ]
    },
    {
      "cell_type": "code",
      "metadata": {
        "colab": {
          "base_uri": "https://localhost:8080/"
        },
        "id": "mmzS0oO42iG2",
        "outputId": "a9ee63c1-ef22-42b4-e60d-62c2fb289e0f"
      },
      "source": [
        " # excluding the 2 variables\n",
        "\n",
        "# Subsetting the data\n",
        "X = housing_df[['bedrooms', 'bathrooms', 'sqft_lot', 'floors',\n",
        "       'condition', 'grade', 'sqft_basement', 'yr_built',\n",
        "        'sqft_living15', 'sqft_lot15']]\n",
        "y = housing_df['price']\n",
        "\n",
        "# Training the Algorithm\n",
        "from sklearn.linear_model import LinearRegression\n",
        "regressor = LinearRegression()\n",
        "regressor.fit(X_train, y_train)\n",
        "\n",
        "# Dividing our data into training and test sets\n",
        "# ---\n",
        "# \n",
        "from sklearn.model_selection import train_test_split\n",
        "X_train, X_test, y_train, y_test = train_test_split(X, y, test_size=0.2, random_state=10)\n",
        "\n",
        "# coefficients for our test set attributes. \n",
        "\n",
        "coeff_df = pd.DataFrame(regressor.coef_, X.columns, columns=['Coefficient'])\n",
        "coeff_df\n",
        "\n",
        "# Making Predictions\n",
        "# \n",
        "from sklearn.metrics import r2_score\n",
        "from sklearn import metrics\n",
        "\n",
        "y_pred = regressor.predict(X_test)\n",
        "\n",
        "print(\"For the model excluding both sqft_living and sqft_above:\")\n",
        "print(\"         The R2 score is:\", r2_score(y_test, y_pred))\n",
        "print('         Root Mean Squared Error:', np.sqrt(metrics.mean_squared_error(y_test, y_pred)))"
      ],
      "execution_count": 72,
      "outputs": [
        {
          "output_type": "stream",
          "text": [
            "For the model excluding both sqft_living and sqft_above:\n",
            "         The R2 score is: 0.5121757577690568\n",
            "         Root Mean Squared Error: 129862.09204730399\n"
          ],
          "name": "stdout"
        }
      ]
    },
    {
      "cell_type": "markdown",
      "metadata": {
        "id": "2uGpZbd34j7U"
      },
      "source": [
        "> The 2 features that the VIF function recommended for dropping are the key indicators for square footage, so we cannot possibly make predictions without them. This proves that.\n",
        "\n",
        "Let's try it with just the _sqftabove feature, which has a lower correlation index compared to _sqftliving. Modifications are made by adding and subtracting features from X and y above."
      ]
    },
    {
      "cell_type": "code",
      "metadata": {
        "id": "37GafOrb4qtM",
        "colab": {
          "base_uri": "https://localhost:8080/"
        },
        "outputId": "4fd8fb5a-89c8-4337-d8a0-ce8f52ca77ad"
      },
      "source": [
        "# This is the version that includes sqft_above ONLY\n",
        "\n",
        "# Subsetting the data\n",
        "X = housing_df[['bedrooms', 'bathrooms', 'sqft_above', 'sqft_lot', 'floors',\n",
        "       'condition', 'grade', 'sqft_basement', 'yr_built',\n",
        "        'sqft_living15', 'sqft_lot15']]\n",
        "y = housing_df['price']\n",
        "\n",
        "y_pred = regressor.predict(X_test)\n",
        "\n",
        "# Dividing our data into training and test sets\n",
        "# ---\n",
        "# \n",
        "from sklearn.model_selection import train_test_split\n",
        "X_train, X_test, y_train, y_test = train_test_split(X, y, test_size=0.2, random_state=10)\n",
        "\n",
        "# Training the Algorithm\n",
        "from sklearn.linear_model import LinearRegression\n",
        "regressor = LinearRegression()\n",
        "regressor.fit(X_train, y_train)\n",
        "\n",
        "# coefficients for our test set attributes. \n",
        "\n",
        "coeff_df = pd.DataFrame(regressor.coef_, X.columns, columns=['Coefficient'])\n",
        "coeff_df\n",
        "\n",
        "# Making Predictions\n",
        "# \n",
        "y_pred = regressor.predict(X_test)\n",
        "\n",
        "print(\"For the model excluding sqft_living only:\")\n",
        "print(\"        The R2 score is:\", r2_score(y_test, y_pred))\n",
        "print('        Root Mean Squared Error:', np.sqrt(metrics.mean_squared_error(y_test, y_pred)))"
      ],
      "execution_count": 73,
      "outputs": [
        {
          "output_type": "stream",
          "text": [
            "For the model excluding sqft_living only:\n",
            "        The R2 score is: 0.5239775078810758\n",
            "        Root Mean Squared Error: 128281.62199163507\n"
          ],
          "name": "stdout"
        }
      ]
    },
    {
      "cell_type": "code",
      "metadata": {
        "id": "NgmUh87U40jZ",
        "colab": {
          "base_uri": "https://localhost:8080/"
        },
        "outputId": "d0a98f3d-28a0-4445-c359-8411fe4f85bc"
      },
      "source": [
        "# This is the version that includes sqft_living ONLY\n",
        "\n",
        "# Subsetting the data\n",
        "X = housing_df[['bedrooms', 'bathrooms', 'sqft_living', 'sqft_lot', 'floors',\n",
        "       'condition', 'grade', 'sqft_basement', 'yr_built',\n",
        "        'sqft_living15', 'sqft_lot15']]\n",
        "y = housing_df['price']\n",
        "\n",
        "y_pred = regressor.predict(X_test)\n",
        "\n",
        "# Dividing our data into training and test sets\n",
        "# ---\n",
        "# \n",
        "from sklearn.model_selection import train_test_split\n",
        "X_train, X_test, y_train, y_test = train_test_split(X, y, test_size=0.2, random_state=10)\n",
        "\n",
        "# Training the Algorithm\n",
        "from sklearn.linear_model import LinearRegression\n",
        "regressor = LinearRegression()\n",
        "regressor.fit(X_train, y_train)\n",
        "\n",
        "# coefficients for our test set attributes. \n",
        "\n",
        "coeff_df = pd.DataFrame(regressor.coef_, X.columns, columns=['Coefficient'])\n",
        "coeff_df\n",
        "\n",
        "# Making Predictions\n",
        "# \n",
        "y_pred = regressor.predict(X_test)\n",
        "\n",
        "print(\"For the model excluding sqft_above only:\")\n",
        "print(\"          The R2 score is:\", r2_score(y_test, y_pred))\n",
        "print('          Root Mean Squared Error:', np.sqrt(metrics.mean_squared_error(y_test, y_pred)))"
      ],
      "execution_count": 74,
      "outputs": [
        {
          "output_type": "stream",
          "text": [
            "For the model excluding sqft_above only:\n",
            "          The R2 score is: 0.5239775078810804\n",
            "          Root Mean Squared Error: 128281.62199163444\n"
          ],
          "name": "stdout"
        }
      ]
    },
    {
      "cell_type": "code",
      "metadata": {
        "id": "lJOz214g4-2c",
        "colab": {
          "base_uri": "https://localhost:8080/"
        },
        "outputId": "e8a946b2-33ce-4e1c-fe7a-7607c70167be"
      },
      "source": [
        "# This is the version that includes both sqft_above and sqft_living \n",
        "\n",
        "# Subsetting the data\n",
        "X = housing_df[['bedrooms', 'bathrooms', 'sqft_living', 'sqft_above', 'sqft_lot', 'floors',\n",
        "       'condition', 'grade', 'sqft_basement', 'yr_built',\n",
        "        'sqft_living15', 'sqft_lot15']]\n",
        "y = housing_df['price']\n",
        "\n",
        "y_pred_all = regressor.predict(X_test)\n",
        "\n",
        "# Dividing our data into training and test sets\n",
        "# ---\n",
        "# \n",
        "from sklearn.model_selection import train_test_split\n",
        "X_train_all, X_test_all, y_train_all, y_test_all = train_test_split(X, y, test_size=0.2, random_state=10)\n",
        "\n",
        "# Training the Algorithm\n",
        "from sklearn.linear_model import LinearRegression\n",
        "regressor = LinearRegression()\n",
        "regressor.fit(X_train_all, y_train_all)\n",
        "\n",
        "# coefficients for our test set attributes. \n",
        "\n",
        "coeff_df = pd.DataFrame(regressor.coef_, X.columns, columns=['Coefficient'])\n",
        "coeff_df\n",
        "\n",
        "# Making Predictions\n",
        "# \n",
        "y_pred_all = regressor.predict(X_test_all)\n",
        "\n",
        "print(\"For the model including both sqft_living and sqft_above:\")\n",
        "print(\"           The R2 score is:\", r2_score(y_test, y_pred))\n",
        "print('           Root Mean Squared Error:', np.sqrt(metrics.mean_squared_error(y_test, y_pred)))\n",
        "##he difference between the R2 scores for the models including or excluding one of the variables have a very small marginal difference. This shows that the 2 variables being multicollinear does not affect the linear model.\n",
        " ##Thus I'll choose the square foot of the living area to continue with the analysis henceforth."
      ],
      "execution_count": 75,
      "outputs": [
        {
          "output_type": "stream",
          "text": [
            "For the model including both sqft_living and sqft_above:\n",
            "           The R2 score is: 0.5239775078810804\n",
            "           Root Mean Squared Error: 128281.62199163444\n"
          ],
          "name": "stdout"
        }
      ]
    },
    {
      "cell_type": "markdown",
      "metadata": {
        "id": "lCS51N2A5acS"
      },
      "source": [
        "##Residual Plots and Heteroscedacity Test"
      ]
    },
    {
      "cell_type": "code",
      "metadata": {
        "id": "9CpQ7Gzb5JBo"
      },
      "source": [
        "# Splitting our data into training and test sets\n",
        "\n",
        "X = housing_df[['bedrooms', 'bathrooms', 'sqft_living', 'sqft_lot', 'floors',\n",
        "       'condition', 'grade', 'sqft_basement', 'yr_built',\n",
        "        'sqft_living15', 'sqft_lot15']].values\n",
        "y = housing_df['price'].values\n",
        "\n",
        "X_train, X_test, y_train, y_test = train_test_split(X, y, test_size=0.25, random_state=0)"
      ],
      "execution_count": 76,
      "outputs": []
    },
    {
      "cell_type": "code",
      "metadata": {
        "id": "3mddo4fm5vHj",
        "colab": {
          "base_uri": "https://localhost:8080/"
        },
        "outputId": "a0df769f-242a-44e5-d6c6-7d2d810e425b"
      },
      "source": [
        "# Fitting our training data in our model\n",
        "from sklearn.linear_model import LinearRegression\n",
        "\n",
        "regressor = LinearRegression()\n",
        "regressor.fit(X_train, y_train)\n"
      ],
      "execution_count": 77,
      "outputs": [
        {
          "output_type": "execute_result",
          "data": {
            "text/plain": [
              "LinearRegression(copy_X=True, fit_intercept=True, n_jobs=None, normalize=False)"
            ]
          },
          "metadata": {
            "tags": []
          },
          "execution_count": 77
        }
      ]
    },
    {
      "cell_type": "code",
      "metadata": {
        "id": "jfLv-fJT53WA"
      },
      "source": [
        "# This is our prediction for price based on our model\n",
        "y_predict = a = regressor.predict(X_test)\n",
        "\n",
        "# We create the residual by substracting the test value from the predicted value for each row in our dataset\n",
        "\n",
        "residuals = np.subtract(y_predict, y_test)"
      ],
      "execution_count": 78,
      "outputs": []
    },
    {
      "cell_type": "code",
      "metadata": {
        "id": "u5lHMPk_57mO",
        "colab": {
          "base_uri": "https://localhost:8080/",
          "height": 877
        },
        "outputId": "7a4f31c6-e8af-4dc6-be93-91f8a9f345ee"
      },
      "source": [
        "## Building the residual plot\n",
        "\n",
        "import matplotlib.pyplot as plt\n",
        "\n",
        "plt.figure(figsize = (15,15))\n",
        "plt.scatter(y_predict, residuals, color='midnightblue')\n",
        "plt.ylabel('residual')\n",
        "plt.xlabel('fitted values')\n",
        "plt.axhline(y= residuals.mean(), color='red', linewidth=1)\n",
        "plt.show()"
      ],
      "execution_count": 79,
      "outputs": [
        {
          "output_type": "display_data",
          "data": {
            "image/png": "[encoded data removed]",
            "text/plain": [
              "<Figure size 1080x1080 with 1 Axes>"
            ]
          },
          "metadata": {
            "tags": [],
            "needs_background": "light"
          }
        }
      ]
    },
    {
      "cell_type": "markdown",
      "metadata": {
        "id": "G3quok7C6Byd"
      },
      "source": [
        "### Barlett's Test"
      ]
    },
    {
      "cell_type": "code",
      "metadata": {
        "id": "WBGRiJDr5987",
        "colab": {
          "base_uri": "https://localhost:8080/"
        },
        "outputId": "56bec42c-151c-43fa-ee85-0d40627fa887"
      },
      "source": [
        "import scipy as sp\n",
        "\n",
        "test_result, p_value = sp.stats.bartlett(y_predict, residuals)\n",
        "\n",
        "# We compute a critical value of the chi squared distribution\n",
        "degree_of_freedom = len(y_predict)-1\n",
        "probability = 1 - p_value\n",
        "\n",
        "critical_value = sp.stats.chi2.ppf(probability, degree_of_freedom)\n",
        "print(\"The critical value is:\", critical_value)\n",
        "\n",
        "# If the test_result is greater than the critical value, then\n",
        "# this would mean that there are patterns to the variance of the data\n",
        "\n",
        "# Otherwise, we can identify no patterns, and we accept that \n",
        "# the variance is homogeneous across our data\n",
        "\n",
        "if (test_result > critical_value):\n",
        "  print('the variances are unequal, and the model should be reassessed.')\n",
        "else:\n",
        "  print('The variances are homogeneous.')"
      ],
      "execution_count": 80,
      "outputs": [
        {
          "output_type": "stream",
          "text": [
            "The critical value is: 4439.438266690192\n",
            "The variances are homogeneous.\n"
          ],
          "name": "stdout"
        }
      ]
    },
    {
      "cell_type": "code",
      "metadata": {
        "id": "HQTKYB4l6QNF",
        "colab": {
          "base_uri": "https://localhost:8080/"
        },
        "outputId": "6a4533c1-4f61-44fc-d5f7-bcd3f720b9fa"
      },
      "source": [
        "# This is our prediction for price based on our model\n",
        "y_predict = regressor.predict(X_test)\n",
        "\n",
        "# The R2 score and RMSE for the linear model is \n",
        "\n",
        "print('Root Mean Squared Error:', np.sqrt(metrics.mean_squared_error(y_test, y_predict)))\n",
        "\n",
        "from sklearn.metrics import r2_score\n",
        "\n",
        "linear_R2 = a = r2_score(y_test, y_predict)\n",
        "print(\"The R2 score for the linear model is:\", linear_R2)"
      ],
      "execution_count": 81,
      "outputs": [
        {
          "output_type": "stream",
          "text": [
            "Root Mean Squared Error: 129581.98756688635\n",
            "The R2 score for the linear model is: 0.5300034135608471\n"
          ],
          "name": "stdout"
        }
      ]
    },
    {
      "cell_type": "markdown",
      "metadata": {
        "id": "OM5Gplg86b3O"
      },
      "source": [
        "##REGRESSIONS\n"
      ]
    },
    {
      "cell_type": "markdown",
      "metadata": {
        "id": "-0dVs6jC-KcK"
      },
      "source": [
        "###Quantile Regression"
      ]
    },
    {
      "cell_type": "code",
      "metadata": {
        "id": "YQ7d6gYw6mEQ",
        "colab": {
          "base_uri": "https://localhost:8080/"
        },
        "outputId": "53dd2916-06a2-4111-ea61-57de23321a51"
      },
      "source": [
        "# Splitting our data into training and test sets\n",
        "\n",
        "X = housing_df[['bedrooms', 'bathrooms', 'sqft_living', 'sqft_lot', 'floors',\n",
        "       'condition', 'grade', 'sqft_basement', 'yr_built',\n",
        "        'sqft_living15', 'sqft_lot15']].values\n",
        "y = housing_df['price'].values\n",
        "X_train, X_test, y_train, y_test = train_test_split(X, y, test_size=0.25, random_state=0)\n",
        "# Finding the regression coefficients for the conditioned median, 0.5 quantile\n",
        "\n",
        "import statsmodels.formula.api as smf\n",
        "mod = smf.quantreg('y ~ X', housing_df)\n",
        "res = mod.fit(q=.5)\n",
        "res\n",
        "# Then print out the summary of our model\n",
        "#\n",
        "print(res.summary())"
      ],
      "execution_count": 82,
      "outputs": [
        {
          "output_type": "stream",
          "text": [
            "                         QuantReg Regression Results                          \n",
            "==============================================================================\n",
            "Dep. Variable:                      y   Pseudo R-squared:               0.3255\n",
            "Model:                       QuantReg   Bandwidth:                   2.327e+04\n",
            "Method:                 Least Squares   Sparsity:                    3.136e+05\n",
            "Date:                Sat, 29 May 2021   No. Observations:                16607\n",
            "Time:                        19:08:55   Df Residuals:                    16595\n",
            "                                        Df Model:                           11\n",
            "==============================================================================\n",
            "                 coef    std err          t      P>|t|      [0.025      0.975]\n",
            "------------------------------------------------------------------------------\n",
            "Intercept   4.971e+06   1.11e+05     44.608      0.000    4.75e+06    5.19e+06\n",
            "X[0]        -1.67e+04   2037.273     -8.200      0.000   -2.07e+04   -1.27e+04\n",
            "X[1]        1.782e+04   3167.245      5.627      0.000    1.16e+04     2.4e+04\n",
            "X[2]          68.6776      4.134     16.611      0.000      60.574      76.782\n",
            "X[3]          -4.5146      0.765     -5.902      0.000      -6.014      -3.015\n",
            "X[4]        2.612e+04   3622.612      7.210      0.000     1.9e+04    3.32e+04\n",
            "X[5]        2.123e+04   2082.347     10.194      0.000    1.71e+04    2.53e+04\n",
            "X[6]        1.066e+05   2225.928     47.881      0.000    1.02e+05    1.11e+05\n",
            "X[7]          36.3332      4.501      8.072      0.000      27.510      45.156\n",
            "X[8]       -2841.4468     57.649    -49.289      0.000   -2954.445   -2728.448\n",
            "X[9]          72.1618      3.685     19.581      0.000      64.938      79.385\n",
            "X[10]         -6.1005      0.863     -7.066      0.000      -7.793      -4.408\n",
            "==============================================================================\n",
            "\n",
            "The condition number is large, 1.03e+06. This might indicate that there are\n",
            "strong multicollinearity or other numerical problems.\n"
          ],
          "name": "stdout"
        }
      ]
    },
    {
      "cell_type": "code",
      "metadata": {
        "id": "VS_0JDvE6who",
        "colab": {
          "base_uri": "https://localhost:8080/"
        },
        "outputId": "73ab81a3-81c5-412d-d158-04469ff652c1"
      },
      "source": [
        "# This is our prediction for price based on our model\n",
        "y_predict = res.predict()\n",
        "\n",
        "print('Root Mean Squared Error:', np.sqrt(metrics.mean_squared_error(y, y_predict)))\n",
        "quantile_R2 = b = r2_score(y, y_predict)\n",
        "print(\"The R2 score for the elastic model is:\", quantile_R2)"
      ],
      "execution_count": 83,
      "outputs": [
        {
          "output_type": "stream",
          "text": [
            "Root Mean Squared Error: 130355.69078243978\n",
            "The R2 score for the elastic model is: 0.5243001957551214\n"
          ],
          "name": "stdout"
        }
      ]
    },
    {
      "cell_type": "markdown",
      "metadata": {
        "id": "GnL3nrOX634q"
      },
      "source": [
        "###Ridge Regression"
      ]
    },
    {
      "cell_type": "code",
      "metadata": {
        "id": "i50Fq40368o9"
      },
      "source": [
        "# Splitting our data into training and test sets\n",
        "\n",
        "X = housing_df[['bedrooms', 'bathrooms', 'sqft_living', 'sqft_lot', 'floors',\n",
        "       'condition', 'grade', 'sqft_basement', 'yr_built',\n",
        "        'sqft_living15', 'sqft_lot15']].values\n",
        "y = housing_df['price'].values\n",
        "\n",
        "X_train, X_test, y_train, y_test = train_test_split(X, y, test_size=0.25, random_state=0)\n",
        "\n",
        "# Splitting the dataset into training and testing sets\n",
        "#\n",
        "scaler = StandardScaler()\n",
        "X = scaler.fit_transform(X)"
      ],
      "execution_count": 84,
      "outputs": []
    },
    {
      "cell_type": "code",
      "metadata": {
        "id": "Kmvj8aWe7Da2",
        "colab": {
          "base_uri": "https://localhost:8080/"
        },
        "outputId": "58ba8cde-d3e4-4eb9-8e1a-67eaba2931d2"
      },
      "source": [
        "# determining the most appropriate value for the l2 regularization.\n",
        " \n",
        "ridge = Ridge(normalize=True)\n",
        "search = GridSearchCV(estimator=ridge,param_grid={'alpha':np.logspace(-5,2,8)},scoring='neg_mean_squared_error',n_jobs=1,refit=True,cv=10)\n",
        "# We now use the .fit function to run the model and then use the .best_params_ and\n",
        "#  .best_scores_ function to determine the models strength. \n",
        "# \n",
        "search.fit(X_train,y_train)\n",
        "search.best_params_"
      ],
      "execution_count": 85,
      "outputs": [
        {
          "output_type": "execute_result",
          "data": {
            "text/plain": [
              "{'alpha': 0.001}"
            ]
          },
          "metadata": {
            "tags": []
          },
          "execution_count": 85
        }
      ]
    },
    {
      "cell_type": "code",
      "metadata": {
        "id": "XxgRhxol7N63",
        "colab": {
          "base_uri": "https://localhost:8080/"
        },
        "outputId": "c0e3423e-aa98-4b36-9c39-b0b915e1fb92"
      },
      "source": [
        "# We can confirm this by fitting our model with the ridge information and finding the mean squared error below\n",
        "#\n",
        "ridge = Ridge(normalize=True,alpha=0.001)\n",
        "ridge.fit(X_train,y_train)\n",
        "y_pred = ridge.predict(X_test)\n",
        "\n",
        "\n",
        "print('Ridge model Root Mean Squared Error:', np.sqrt(metrics.mean_squared_error(y_test, y_pred)))\n",
        "\n",
        "# Making predictions & checking accuracy using R2 score\n",
        "c = r2_score(y_test, y_pred)\n",
        "print(\"The R2 score for the ridge model is:\", c)"
      ],
      "execution_count": 86,
      "outputs": [
        {
          "output_type": "stream",
          "text": [
            "Ridge model Root Mean Squared Error: 129583.796435449\n",
            "The R2 score for the ridge model is: 0.5299902918608403\n"
          ],
          "name": "stdout"
        }
      ]
    },
    {
      "cell_type": "markdown",
      "metadata": {
        "id": "FbTHkxVv7QRt"
      },
      "source": [
        "###Lasso Regression"
      ]
    },
    {
      "cell_type": "code",
      "metadata": {
        "id": "n24VVPpt7X-3"
      },
      "source": [
        "# Splitting our data into training and test sets\n",
        "\n",
        "X = housing_df[['bedrooms', 'bathrooms', 'sqft_living', 'sqft_lot', 'floors',\n",
        "       'condition', 'grade', 'sqft_basement', 'yr_built',\n",
        "        'sqft_living15', 'sqft_lot15']].values\n",
        "y = housing_df['price'].values\n",
        "\n",
        "X_train, X_test, y_train, y_test = train_test_split(X, y, test_size=0.25, random_state=0)"
      ],
      "execution_count": 87,
      "outputs": []
    },
    {
      "cell_type": "code",
      "metadata": {
        "id": "Rn8GbgPi7d7L"
      },
      "source": [
        "# Creating lasso object\n",
        "# \n",
        "lasso = linear_model.Lasso() \n",
        "\n",
        "parameters = {'alpha': np.concatenate((np.arange(0.1,2,0.1), np.arange(2, 5, 0.5), np.arange(5, 25, 1)))}\n",
        "\n",
        "lasso = linear_model.Lasso() \n",
        "gridlasso = GridSearchCV(lasso, parameters, scoring ='r2')"
      ],
      "execution_count": 88,
      "outputs": []
    },
    {
      "cell_type": "code",
      "metadata": {
        "id": "wGP1J2Qa7kkF",
        "colab": {
          "base_uri": "https://localhost:8080/"
        },
        "outputId": "d0c5a2a2-20fe-40b0-dd01-3738a9a09856"
      },
      "source": [
        "# Fitting models and getting RMSE\n",
        "\n",
        "gridlasso.fit(X_train, y_train) \n",
        "y_pred = gridlasso.predict(X_test)\n",
        "d = r2_score(y_test,y_pred)\n",
        "print(\"The RMSE for the lasso model:\", np.sqrt(metrics.mean_squared_error(y_test, y_pred)))\n",
        "print(\"The R2 score for the lasso model is:\",d)"
      ],
      "execution_count": 89,
      "outputs": [
        {
          "output_type": "stream",
          "text": [
            "The RMSE for the lasso model: 129581.99614502878\n",
            "The R2 score for the lasso model is: 0.5300033513346402\n"
          ],
          "name": "stdout"
        }
      ]
    },
    {
      "cell_type": "markdown",
      "metadata": {
        "id": "ylXc5eWI7nKz"
      },
      "source": [
        "###ElasticNet Regression"
      ]
    },
    {
      "cell_type": "code",
      "metadata": {
        "id": "KkJYYFAO7rbC"
      },
      "source": [
        "# Splitting our data into training and test sets\n",
        "\n",
        "X = housing_df[['bedrooms', 'bathrooms', 'sqft_living', 'sqft_lot', 'floors',\n",
        "       'condition', 'grade', 'sqft_basement', 'yr_built',\n",
        "        'sqft_living15', 'sqft_lot15']].values\n",
        "y = housing_df['price'].values\n",
        "\n",
        "X_train, X_test, y_train, y_test = train_test_split(X, y, test_size=0.25, random_state=0)\n",
        "\n",
        "# Normalizing the data and creating our grid.\n",
        "# \n",
        "from sklearn.model_selection import GridSearchCV\n",
        "from sklearn.linear_model import ElasticNet\n",
        "\n",
        "elastic=ElasticNet(normalize=True)\n",
        "search=GridSearchCV(estimator=elastic,param_grid={'alpha':np.logspace(-5,2,8),'l1_ratio':[.2,.4,.6,.8]},scoring='neg_mean_squared_error',n_jobs=1,refit=True,cv=10)"
      ],
      "execution_count": 90,
      "outputs": []
    },
    {
      "cell_type": "code",
      "metadata": {
        "id": "ZcMyA8yh75Un",
        "colab": {
          "base_uri": "https://localhost:8080/"
        },
        "outputId": "339c09c1-e08b-4c5c-a365-3d6350bbc5e0"
      },
      "source": [
        "# We now use the .fit function to run the model and then use the .best_params_ and\n",
        "#  .best_scores_ function to determine the models strength. \n",
        "# \n",
        "search.fit(X_train,y_train)\n",
        "search.best_params_\n",
        "\n",
        "{'alpha': 1e-05, 'l1_ratio': 0.8}\n",
        "\n",
        "# Fitting the model\n",
        "\n",
        "elastic=ElasticNet(normalize=True,alpha=0.00001,l1_ratio=0.8)\n",
        "elastic.fit(X_train, y_train)\n",
        "\n",
        "# Making predictions\n",
        "#\n",
        "y_pred = elastic.predict(X_test)\n",
        "e = r2_score(y_test,y_pred)\n",
        "\n",
        "# getting RMSE & R2 score\n",
        "print(\"The RMSE for the Elastic model:\", np.sqrt(metrics.mean_squared_error(y_test, y_pred)))\n",
        "print(\"The R2 score for the elastic model is:\", e)"
      ],
      "execution_count": 91,
      "outputs": [
        {
          "output_type": "stream",
          "text": [
            "The RMSE for the Elastic model: 129683.51728583095\n",
            "The R2 score for the elastic model is: 0.5292666241906077\n"
          ],
          "name": "stdout"
        }
      ]
    },
    {
      "cell_type": "code",
      "metadata": {
        "id": "f81vIp2D7-8g",
        "colab": {
          "base_uri": "https://localhost:8080/"
        },
        "outputId": "6c753a31-0c8c-49df-f588-f4a27f8a14ad"
      },
      "source": [
        "# Reviewing the Solution \n",
        "# Models vs r2 score.\n",
        "models = ['multi-linear', 'quantile', 'ridge', 'lasso', 'elastic']\n",
        "r2_scores = [a,b,c,d,e]\n",
        "model_results = pd.DataFrame({'Regresion models': models, 'r2_scores': r2_scores})\n",
        "print(model_results)\n",
        "print(\"**************\")\n",
        "print(\"The mean r2 scores is:\", model_results.mean())\n",
        "#model_results.sort_values(by = 'r2_scores',axis=0,ascending=False)"
      ],
      "execution_count": 92,
      "outputs": [
        {
          "output_type": "stream",
          "text": [
            "  Regresion models  r2_scores\n",
            "0     multi-linear   0.530003\n",
            "1         quantile   0.524300\n",
            "2            ridge   0.529990\n",
            "3            lasso   0.530003\n",
            "4          elastic   0.529267\n",
            "**************\n",
            "The mean r2 scores is: r2_scores    0.528713\n",
            "dtype: float64\n"
          ],
          "name": "stdout"
        }
      ]
    },
    {
      "cell_type": "markdown",
      "metadata": {
        "id": "hPcEcmqh8Wuv"
      },
      "source": [
        "## Conclusion\n",
        "> After a thorough and exhaustive analysis using the 5 regression models above, we see that the difference between the different regression models accuracy scores using r2 scores metric is quite small and there is no clear cut difference to distinguish one from the other in terms of perfomance.\n",
        "\n",
        "An average accuracy of 52.399% is not really satisfactory. Thus, further analysis of data needs be done to further improve the model."
      ]
    },
    {
      "cell_type": "markdown",
      "metadata": {
        "id": "gHo6LIxH8iS9"
      },
      "source": [
        "##Challeging the Solution\n",
        "> Our average r2_scores = 0.523989. This translates to 52.399% accuracy which is not the best that we can have to come up with a solid marketing and pricing for our client."
      ]
    },
    {
      "cell_type": "markdown",
      "metadata": {
        "id": "m8iMivfs8vI_"
      },
      "source": [
        "##Follow Up Questions\n",
        "> we can redefine our question and or collect new data, all with an aim of increasing our level of accuracy"
      ]
    },
    {
      "cell_type": "markdown",
      "metadata": {
        "id": "7r-4u2qM9OwQ"
      },
      "source": [
        "####Did we have the right data? Yes"
      ]
    },
    {
      "cell_type": "markdown",
      "metadata": {
        "id": "DJ30Cw3P9WIq"
      },
      "source": [
        "####Do we need other data to answer our question? Yes"
      ]
    },
    {
      "cell_type": "markdown",
      "metadata": {
        "id": "Wm19vLuq9eZ7"
      },
      "source": [
        "####Did we have the right question? Yes"
      ]
    }
  ]
}